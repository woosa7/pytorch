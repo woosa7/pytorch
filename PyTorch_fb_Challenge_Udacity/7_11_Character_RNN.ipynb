{
 "cells": [
  {
   "cell_type": "markdown",
   "metadata": {},
   "source": [
    "# Character-Level LSTM in PyTorch\n",
    "\n",
    "In this notebook, I'll construct a character-level LSTM with PyTorch. The network will train character by character on some text, then generate new text character by character. As an example, I will train on Anna Karenina. **This model will be able to generate new text based on the text from the book!**\n",
    "\n",
    "This network is based off of Andrej Karpathy's [post on RNNs](http://karpathy.github.io/2015/05/21/rnn-effectiveness/) and [implementation in Torch](https://github.com/karpathy/char-rnn). Below is the general architecture of the character-wise RNN.\n",
    "\n",
    "<img src=\"assets/charseq.jpeg\" width=\"500\">"
   ]
  },
  {
   "cell_type": "code",
   "execution_count": 1,
   "metadata": {
    "collapsed": true
   },
   "outputs": [],
   "source": [
    "import numpy as np\n",
    "import torch\n",
    "from torch import nn\n",
    "import torch.nn.functional as F"
   ]
  },
  {
   "cell_type": "markdown",
   "metadata": {},
   "source": [
    "## Load in Data\n",
    "\n",
    "Then, we'll load the Anna Karenina text file and convert it into integers for our network to use. "
   ]
  },
  {
   "cell_type": "code",
   "execution_count": 2,
   "metadata": {
    "collapsed": true
   },
   "outputs": [],
   "source": [
    "# open text file and read in data as `text`\n",
    "with open('data/anna.txt', 'r') as f:\n",
    "    text = f.read()"
   ]
  },
  {
   "cell_type": "markdown",
   "metadata": {},
   "source": [
    "Let's check out the first 100 characters, make sure everything is peachy. According to the [American Book Review](http://americanbookreview.org/100bestlines.asp), this is the 6th best first line of a book ever."
   ]
  },
  {
   "cell_type": "code",
   "execution_count": 3,
   "metadata": {},
   "outputs": [
    {
     "data": {
      "text/plain": [
       "'Chapter 1\\n\\n\\nHappy families are all alike; every unhappy family is unhappy in its own\\nway.\\n\\nEverythin'"
      ]
     },
     "execution_count": 3,
     "metadata": {},
     "output_type": "execute_result"
    }
   ],
   "source": [
    "text[:100]"
   ]
  },
  {
   "cell_type": "markdown",
   "metadata": {},
   "source": [
    "### Tokenization\n",
    "\n",
    "In the cells, below, I'm creating a couple **dictionaries** to convert the characters to and from integers. Encoding the characters as integers makes it easier to use as input in the network."
   ]
  },
  {
   "cell_type": "code",
   "execution_count": 4,
   "metadata": {
    "collapsed": true
   },
   "outputs": [],
   "source": [
    "# encode the text and map each character to an integer and vice versa\n",
    "\n",
    "# we create two dictionaries:\n",
    "# 1. int2char, which maps integers to characters\n",
    "# 2. char2int, which maps characters to unique integers\n",
    "chars = tuple(set(text))\n",
    "int2char = dict(enumerate(chars))\n",
    "char2int = {ch: ii for ii, ch in int2char.items()}\n",
    "\n",
    "# encode the text\n",
    "encoded = np.array([char2int[ch] for ch in text])"
   ]
  },
  {
   "cell_type": "markdown",
   "metadata": {},
   "source": [
    "And we can see those same characters from above, encoded as integers."
   ]
  },
  {
   "cell_type": "code",
   "execution_count": 5,
   "metadata": {},
   "outputs": [
    {
     "data": {
      "text/plain": [
       "dict_keys([0, 1, 2, 3, 4, 5, 6, 7, 8, 9, 10, 11, 12, 13, 14, 15, 16, 17, 18, 19, 20, 21, 22, 23, 24, 25, 26, 27, 28, 29, 30, 31, 32, 33, 34, 35, 36, 37, 38, 39, 40, 41, 42, 43, 44, 45, 46, 47, 48, 49, 50, 51, 52, 53, 54, 55, 56, 57, 58, 59, 60, 61, 62, 63, 64, 65, 66, 67, 68, 69, 70, 71, 72, 73, 74, 75, 76, 77, 78, 79, 80, 81, 82])"
      ]
     },
     "execution_count": 5,
     "metadata": {},
     "output_type": "execute_result"
    }
   ],
   "source": [
    "int2char.keys()"
   ]
  },
  {
   "cell_type": "code",
   "execution_count": 6,
   "metadata": {},
   "outputs": [
    {
     "data": {
      "text/plain": [
       "dict_values(['u', 'c', '%', 'v', 'd', 'Z', 'n', 'U', 's', '-', 'M', '4', '5', ';', '?', 'X', 'j', 'D', 'o', 'w', 'k', 'N', '0', 'J', '$', 'l', 'Q', '!', 'G', 'W', 'L', 'H', '&', '9', '/', '.', 'q', 'A', '7', '@', 'P', 'Y', '*', 'r', 't', 'h', 'f', '2', 'm', 'O', 'e', 'R', '1', 'T', ':', 'i', ')', '8', '(', ' ', '3', '6', 'E', 'a', ',', 'g', 'I', 'B', 'x', 'S', 'z', '_', \"'\", 'V', '`', 'F', '\"', 'y', 'p', 'K', '\\n', 'b', 'C'])"
      ]
     },
     "execution_count": 6,
     "metadata": {},
     "output_type": "execute_result"
    }
   ],
   "source": [
    "int2char.values()"
   ]
  },
  {
   "cell_type": "code",
   "execution_count": 7,
   "metadata": {},
   "outputs": [
    {
     "data": {
      "text/plain": [
       "array([82, 45, 63, 78, 44, 50, 43, 59, 52, 80, 80, 80, 31, 63, 78, 78, 77,\n",
       "       59, 46, 63, 48, 55, 25, 55, 50,  8, 59, 63, 43, 50, 59, 63, 25, 25,\n",
       "       59, 63, 25, 55, 20, 50, 13, 59, 50,  3, 50, 43, 77, 59,  0,  6, 45,\n",
       "       63, 78, 78, 77, 59, 46, 63, 48, 55, 25, 77, 59, 55,  8, 59,  0,  6,\n",
       "       45, 63, 78, 78, 77, 59, 55,  6, 59, 55, 44,  8, 59, 18, 19,  6, 80,\n",
       "       19, 63, 77, 35, 80, 80, 62,  3, 50, 43, 77, 44, 45, 55,  6])"
      ]
     },
     "execution_count": 7,
     "metadata": {},
     "output_type": "execute_result"
    }
   ],
   "source": [
    "encoded[:100]"
   ]
  },
  {
   "cell_type": "markdown",
   "metadata": {},
   "source": [
    "## Pre-processing the data\n",
    "\n",
    "As you can see in our char-RNN image above, our LSTM expects an input that is **one-hot encoded** meaning that each character is converted into an integer (via our created dictionary) and *then* converted into a column vector where only it's corresponding integer index will have the value of 1 and the rest of the vector will be filled with 0's. Since we're one-hot encoding the data, let's make a function to do that!\n"
   ]
  },
  {
   "cell_type": "code",
   "execution_count": 8,
   "metadata": {
    "collapsed": true
   },
   "outputs": [],
   "source": [
    "def one_hot_encode(arr, n_labels):\n",
    "    \n",
    "    # Initialize the the encoded array\n",
    "    one_hot = np.zeros((np.multiply(*arr.shape), n_labels), dtype=np.float32)\n",
    "    \n",
    "    # Fill the appropriate elements with ones\n",
    "    one_hot[np.arange(one_hot.shape[0]), arr.flatten()] = 1.\n",
    "    \n",
    "    # Finally reshape it to get back to the original array\n",
    "    one_hot = one_hot.reshape((*arr.shape, n_labels))\n",
    "    \n",
    "    return one_hot"
   ]
  },
  {
   "cell_type": "code",
   "execution_count": 9,
   "metadata": {},
   "outputs": [
    {
     "name": "stdout",
     "output_type": "stream",
     "text": [
      "[[[0. 0. 0. 1. 0. 0. 0. 0.]\n",
      "  [0. 0. 0. 0. 0. 1. 0. 0.]\n",
      "  [0. 1. 0. 0. 0. 0. 0. 0.]]]\n"
     ]
    }
   ],
   "source": [
    "# check that the function works as expected\n",
    "test_seq = np.array([[3, 5, 1]])\n",
    "one_hot = one_hot_encode(test_seq, 8)\n",
    "\n",
    "print(one_hot)"
   ]
  },
  {
   "cell_type": "markdown",
   "metadata": {},
   "source": [
    "## Making training mini-batches\n",
    "\n",
    "\n",
    "To train on this data, we also want to create mini-batches for training. Remember that we want our batches to be multiple sequences of some desired number of sequence steps. Considering a simple example, our batches would look like this:\n",
    "\n",
    "<img src=\"assets/sequence_batching@1x.png\" width=500px>\n",
    "\n",
    "\n",
    "<br>\n",
    "\n",
    "In this example, we'll take the encoded characters (passed in as the `arr` parameter) and split them into multiple sequences, given by `batch_size`. Each of our sequences will be `seq_length` long.\n",
    "\n",
    "### Creating Batches\n",
    "\n",
    "**1. The first thing we need to do is discard some of the text so we only have completely full mini-batches. **\n",
    "\n",
    "Each batch contains $N \\times M$ characters, where $N$ is the batch size (the number of sequences in a batch) and $M$ is the seq_length or number of time steps in a sequence. Then, to get the total number of batches, $K$, that we can make from the array `arr`, you divide the length of `arr` by the number of characters per batch. Once you know the number of batches, you can get the total number of characters to keep from `arr`, $N * M * K$.\n",
    "\n",
    "**2. After that, we need to split `arr` into $N$ batches. ** \n",
    "\n",
    "You can do this using `arr.reshape(size)` where `size` is a tuple containing the dimensions sizes of the reshaped array. We know we want $N$ sequences in a batch, so let's make that the size of the first dimension. For the second dimension, you can use `-1` as a placeholder in the size, it'll fill up the array with the appropriate data for you. After this, you should have an array that is $N \\times (M * K)$.\n",
    "\n",
    "**3. Now that we have this array, we can iterate through it to get our mini-batches. **\n",
    "\n",
    "The idea is each batch is a $N \\times M$ window on the $N \\times (M * K)$ array. For each subsequent batch, the window moves over by `seq_length`. We also want to create both the input and target arrays. Remember that the targets are just the inputs shifted over by one character. The way I like to do this window is use `range` to take steps of size `n_steps` from $0$ to `arr.shape[1]`, the total number of tokens in each sequence. That way, the integers you get from `range` always point to the start of a batch, and each window is `seq_length` wide.\n",
    "\n",
    "> **TODO:** Write the code for creating batches in the function below. The exercises in this notebook _will not be easy_. I've provided a notebook with solutions alongside this notebook. If you get stuck, checkout the solutions. The most important thing is that you don't copy and paste the code into here, **type out the solution code yourself.**"
   ]
  },
  {
   "cell_type": "code",
   "execution_count": 10,
   "metadata": {
    "collapsed": true
   },
   "outputs": [],
   "source": [
    "def get_batches(arr, batch_size, seq_length):\n",
    "    '''Create a generator that returns batches of size batch_size x seq_length from arr.\n",
    "       \n",
    "       Arguments\n",
    "       ---------\n",
    "       arr: Array you want to make batches from\n",
    "       batch_size: Batch size, the number of sequences per batch\n",
    "       seq_length: Number of encoded chars in a sequence\n",
    "    '''\n",
    "    \n",
    "    batch_size_total = batch_size * seq_length\n",
    "    \n",
    "    # total number of batches we can make\n",
    "    n_batches = len(arr)//batch_size_total\n",
    "    \n",
    "    # Keep only enough characters to make full batches\n",
    "    arr = arr[:n_batches * batch_size_total]\n",
    "    # Reshape into batch_size rows\n",
    "    arr = arr.reshape((batch_size, -1))\n",
    "    \n",
    "    # iterate through the array, one sequence at a time\n",
    "    for n in range(0, arr.shape[1], seq_length):\n",
    "        # The features\n",
    "        x = arr[:, n:n+seq_length]\n",
    "        \n",
    "        # The targets, shifted by one\n",
    "        y = np.zeros_like(x)\n",
    "        \n",
    "        try:\n",
    "            y[:, :-1], y[:, -1] = x[:, 1:], arr[:, n+seq_length]\n",
    "        except IndexError:\n",
    "            y[:, :-1], y[:, -1] = x[:, 1:], arr[:, 0]\n",
    "            \n",
    "        yield x, y"
   ]
  },
  {
   "cell_type": "markdown",
   "metadata": {},
   "source": [
    "### Test Your Implementation\n",
    "\n",
    "Now I'll make some data sets and we can check out what's going on as we batch data. Here, as an example, I'm going to use a batch size of 8 and 50 sequence steps."
   ]
  },
  {
   "cell_type": "code",
   "execution_count": 11,
   "metadata": {
    "collapsed": true
   },
   "outputs": [],
   "source": [
    "batches = get_batches(encoded, 8, 50)\n",
    "x, y = next(batches)"
   ]
  },
  {
   "cell_type": "code",
   "execution_count": 12,
   "metadata": {},
   "outputs": [
    {
     "name": "stdout",
     "output_type": "stream",
     "text": [
      "x\n",
      " [[82 45 63 78 44 50 43 59 52 80]\n",
      " [ 8 18  6 59 44 45 63 44 59 63]\n",
      " [50  6  4 59 18 43 59 63 59 46]\n",
      " [ 8 59 44 45 50 59  1 45 55 50]\n",
      " [59  8 63 19 59 45 50 43 59 44]\n",
      " [ 1  0  8  8 55 18  6 59 63  6]\n",
      " [59 37  6  6 63 59 45 63  4 59]\n",
      " [49 81 25 18  6  8 20 77 35 59]]\n",
      "\n",
      "y\n",
      " [[45 63 78 44 50 43 59 52 80 80]\n",
      " [18  6 59 44 45 63 44 59 63 44]\n",
      " [ 6  4 59 18 43 59 63 59 46 18]\n",
      " [59 44 45 50 59  1 45 55 50 46]\n",
      " [ 8 63 19 59 45 50 43 59 44 50]\n",
      " [ 0  8  8 55 18  6 59 63  6  4]\n",
      " [37  6  6 63 59 45 63  4 59  8]\n",
      " [81 25 18  6  8 20 77 35 59 76]]\n"
     ]
    }
   ],
   "source": [
    "# printing out the first 10 items in a sequence\n",
    "print('x\\n', x[:10, :10])\n",
    "print('\\ny\\n', y[:10, :10])"
   ]
  },
  {
   "cell_type": "markdown",
   "metadata": {},
   "source": [
    "If you implemented `get_batches` correctly, the above output should look something like \n",
    "```\n",
    "x\n",
    " [[25  8 60 11 45 27 28 73  1  2]\n",
    " [17  7 20 73 45  8 60 45 73 60]\n",
    " [27 20 80 73  7 28 73 60 73 65]\n",
    " [17 73 45  8 27 73 66  8 46 27]\n",
    " [73 17 60 12 73  8 27 28 73 45]\n",
    " [66 64 17 17 46  7 20 73 60 20]\n",
    " [73 76 20 20 60 73  8 60 80 73]\n",
    " [47 35 43  7 20 17 24 50 37 73]]\n",
    "\n",
    "y\n",
    " [[ 8 60 11 45 27 28 73  1  2  2]\n",
    " [ 7 20 73 45  8 60 45 73 60 45]\n",
    " [20 80 73  7 28 73 60 73 65  7]\n",
    " [73 45  8 27 73 66  8 46 27 65]\n",
    " [17 60 12 73  8 27 28 73 45 27]\n",
    " [64 17 17 46  7 20 73 60 20 80]\n",
    " [76 20 20 60 73  8 60 80 73 17]\n",
    " [35 43  7 20 17 24 50 37 73 36]]\n",
    " ```\n",
    " although the exact numbers may be different. Check to make sure the data is shifted over one step for `y`."
   ]
  },
  {
   "cell_type": "markdown",
   "metadata": {},
   "source": [
    "---\n",
    "## Defining the network with PyTorch\n",
    "\n",
    "Below is where you'll define the network.\n",
    "\n",
    "<img src=\"assets/charRNN.png\" width=500px>\n",
    "\n",
    "Next, you'll use PyTorch to define the architecture of the network. We start by defining the layers and operations we want. Then, define a method for the forward pass. You've also been given a method for predicting characters."
   ]
  },
  {
   "cell_type": "markdown",
   "metadata": {},
   "source": [
    "### Model Structure\n",
    "\n",
    "In `__init__` the suggested structure is as follows:\n",
    "* Create and store the necessary dictionaries (this has been done for you)\n",
    "* Define an LSTM layer that takes as params: an input size (the number of characters), a hidden layer size `n_hidden`, a number of layers `n_layers`, a dropout probability `drop_prob`, and a batch_first boolean (True, since we are batching)\n",
    "* Define a dropout layer with `dropout_prob`\n",
    "* Define a fully-connected layer with params: input size `n_hidden` and output size (the number of characters)\n",
    "* Finally, initialize the weights (again, this has been given)\n",
    "\n",
    "Note that some parameters have been named and given in the `__init__` function, and we use them and store them by doing something like `self.drop_prob = drop_prob`."
   ]
  },
  {
   "cell_type": "markdown",
   "metadata": {},
   "source": [
    "---\n",
    "### LSTM Inputs/Outputs\n",
    "\n",
    "You can create a basic [LSTM layer](https://pytorch.org/docs/stable/nn.html#lstm) as follows\n",
    "\n",
    "```python\n",
    "self.lstm = nn.LSTM(input_size, n_hidden, n_layers, \n",
    "                            dropout=drop_prob, batch_first=True)\n",
    "```\n",
    "\n",
    "where `input_size` is the number of characters this cell expects to see as sequential input, and `n_hidden` is the number of units in the hidden layers in the cell. And we can add dropout by adding a dropout parameter with a specified probability; this will automatically add dropout to the inputs or outputs. Finally, in the `forward` function, we can stack up the LSTM cells into layers using `.view`. With this, you pass in a list of cells and it will send the output of one cell into the next cell.\n",
    "\n",
    "We also need to create an initial hidden state of all zeros. This is done like so\n",
    "\n",
    "```python\n",
    "self.init_hidden()\n",
    "```"
   ]
  },
  {
   "cell_type": "code",
   "execution_count": 13,
   "metadata": {
    "collapsed": true
   },
   "outputs": [],
   "source": [
    "# check if GPU is available\n",
    "device = torch.device(\"cuda\" if torch.cuda.is_available() else \"cpu\")"
   ]
  },
  {
   "cell_type": "code",
   "execution_count": 14,
   "metadata": {
    "collapsed": true
   },
   "outputs": [],
   "source": [
    "class CharRNN(nn.Module):\n",
    "    \n",
    "    def __init__(self, tokens, n_hidden=256, n_layers=2, drop_prob=0.5, lr=0.001):\n",
    "        super().__init__()\n",
    "        \n",
    "        self.drop_prob = drop_prob\n",
    "        self.n_layers = n_layers\n",
    "        self.n_hidden = n_hidden\n",
    "        self.lr = lr\n",
    "        \n",
    "        # creating character dictionaries\n",
    "        self.chars = tokens\n",
    "        self.int2char = dict(enumerate(self.chars))\n",
    "        self.char2int = {ch: ii for ii, ch in self.int2char.items()}\n",
    "        \n",
    "        # define the LSTM\n",
    "        self.lstm = nn.LSTM(len(self.chars), n_hidden, n_layers, dropout=drop_prob, batch_first=True)\n",
    "        self.dropout = nn.Dropout(drop_prob)\n",
    "        self.fc = nn.Linear(n_hidden, len(self.chars))\n",
    "      \n",
    "    \n",
    "    def forward(self, x, hidden):\n",
    "        ''' Forward pass through the network. \n",
    "            These inputs are x, and the hidden/cell state `hidden`. '''\n",
    "                \n",
    "        # Get the outputs and the new hidden state from the lstm\n",
    "        r_output, hidden = self.lstm(x, hidden)\n",
    "        \n",
    "        # pass through a dropout layer\n",
    "        out = self.dropout(r_output)\n",
    "        \n",
    "        # Stack up LSTM outputs using view\n",
    "        # you may need to use contiguous to reshape the output\n",
    "        out = out.contiguous().view(-1, self.n_hidden)\n",
    "        \n",
    "        # put x through the fully-connected layer\n",
    "        out = self.fc(out)\n",
    "        \n",
    "        # return the final output and the hidden state\n",
    "        return out, hidden\n",
    "    \n",
    "    \n",
    "    def init_hidden(self, batch_size):\n",
    "        ''' Initializes hidden state '''\n",
    "        # Create two new tensors with sizes n_layers x batch_size x n_hidden,\n",
    "        # initialized to zero, for hidden state and cell state of LSTM\n",
    "        weight = next(self.parameters()).data\n",
    "        \n",
    "        hidden = (weight.new(self.n_layers, batch_size, self.n_hidden).zero_().to(device),\n",
    "                  weight.new(self.n_layers, batch_size, self.n_hidden).zero_().to(device))\n",
    "        \n",
    "        return hidden\n",
    "        "
   ]
  },
  {
   "cell_type": "markdown",
   "metadata": {},
   "source": [
    "## Time to train\n",
    "\n",
    "The train function gives us the ability to set the number of epochs, the learning rate, and other parameters.\n",
    "\n",
    "Below we're using an Adam optimizer and cross entropy loss since we are looking at character class scores as output. We calculate the loss and perform backpropagation, as usual!\n",
    "\n",
    "A couple of details about training: \n",
    ">* Within the batch loop, we detach the hidden state from its history; this time setting it equal to a new *tuple* variable because an LSTM has a hidden state that is a tuple of the hidden and cell states.\n",
    "* We use [`clip_grad_norm_`](https://pytorch.org/docs/stable/_modules/torch/nn/utils/clip_grad.html) to help prevent exploding gradients."
   ]
  },
  {
   "cell_type": "code",
   "execution_count": 15,
   "metadata": {
    "collapsed": true
   },
   "outputs": [],
   "source": [
    "def train(net, data, epochs=10, batch_size=10, seq_length=50, lr=0.001, clip=5, val_frac=0.1, print_every=10):\n",
    "    ''' Training a network \n",
    "    \n",
    "        Arguments\n",
    "        ---------\n",
    "        net: CharRNN network\n",
    "        data: text data to train the network\n",
    "        epochs: Number of epochs to train\n",
    "        batch_size: Number of mini-sequences per mini-batch, aka batch size\n",
    "        seq_length: Number of character steps per mini-batch\n",
    "        lr: learning rate\n",
    "        clip: gradient clipping\n",
    "        val_frac: Fraction of data to hold out for validation\n",
    "        print_every: Number of steps for printing training and validation loss\n",
    "    \n",
    "    '''\n",
    "    net.train()\n",
    "    net.to(device)\n",
    "    \n",
    "    optimizer = torch.optim.Adam(net.parameters(), lr=lr)\n",
    "    criterion = nn.CrossEntropyLoss()\n",
    "    \n",
    "    # create training and validation data\n",
    "    val_idx = int(len(data)*(1-val_frac))\n",
    "    data, val_data = data[:val_idx], data[val_idx:]   \n",
    "    \n",
    "    counter = 0\n",
    "    n_chars = len(net.chars)\n",
    "    for e in range(epochs):\n",
    "        # initialize hidden state\n",
    "        h = net.init_hidden(batch_size)\n",
    "        \n",
    "        for x, y in get_batches(data, batch_size, seq_length):\n",
    "            counter += 1\n",
    "            \n",
    "            # One-hot encode our data and make them Torch tensors\n",
    "            x = one_hot_encode(x, n_chars)\n",
    "            inputs, targets = torch.from_numpy(x).to(device), torch.from_numpy(y).to(device)\n",
    "            \n",
    "            # Creating new variables for the hidden state, otherwise\n",
    "            # we'd backprop through the entire training history\n",
    "            h = tuple([each.data for each in h])\n",
    "\n",
    "            # zero accumulated gradients\n",
    "            net.zero_grad()\n",
    "            \n",
    "            # get the output from the model\n",
    "            output, h = net(inputs, h)\n",
    "            \n",
    "            # calculate the loss and perform backprop\n",
    "            loss = criterion(output, targets.view(batch_size*seq_length).long())\n",
    "            loss.backward()\n",
    "            \n",
    "            # `clip_grad_norm` helps prevent the exploding gradient problem in RNNs / LSTMs.\n",
    "            nn.utils.clip_grad_norm_(net.parameters(), clip)\n",
    "            optimizer.step()\n",
    "            \n",
    "            # loss stats\n",
    "            if counter % print_every == 0:\n",
    "                # Get validation loss\n",
    "                val_h = net.init_hidden(batch_size)\n",
    "                val_losses = []\n",
    "                net.eval()\n",
    "                for x, y in get_batches(val_data, batch_size, seq_length):\n",
    "                    # One-hot encode our data and make them Torch tensors\n",
    "                    x = one_hot_encode(x, n_chars)\n",
    "                    x, y = torch.from_numpy(x), torch.from_numpy(y)\n",
    "                    \n",
    "                    # Creating new variables for the hidden state, otherwise\n",
    "                    # we'd backprop through the entire training history\n",
    "                    val_h = tuple([each.data for each in val_h])\n",
    "                    \n",
    "                    inputs, targets = x.to(device), y.to(device)\n",
    "\n",
    "                    output, val_h = net(inputs, val_h)\n",
    "                    val_loss = criterion(output, targets.view(batch_size*seq_length).long())\n",
    "                \n",
    "                    val_losses.append(val_loss.item())\n",
    "                \n",
    "                net.train() # reset to train mode after iterationg through validation data\n",
    "                \n",
    "                print(\"Epoch: {}/{}...\".format(e+1, epochs),\n",
    "                      \"Step: {}...\".format(counter),\n",
    "                      \"Loss: {:.4f}...\".format(loss.item()),\n",
    "                      \"Val Loss: {:.4f}\".format(np.mean(val_losses)))"
   ]
  },
  {
   "cell_type": "markdown",
   "metadata": {},
   "source": [
    "## Instantiating the model\n",
    "\n",
    "Now we can actually train the network. First we'll create the network itself, with some given hyperparameters. Then, define the mini-batches sizes, and start training!"
   ]
  },
  {
   "cell_type": "code",
   "execution_count": 16,
   "metadata": {},
   "outputs": [
    {
     "name": "stdout",
     "output_type": "stream",
     "text": [
      "CharRNN(\n",
      "  (lstm): LSTM(83, 512, num_layers=2, batch_first=True, dropout=0.5)\n",
      "  (dropout): Dropout(p=0.5)\n",
      "  (fc): Linear(in_features=512, out_features=83, bias=True)\n",
      ")\n"
     ]
    }
   ],
   "source": [
    "# define and print the net\n",
    "n_hidden=512\n",
    "n_layers=2\n",
    "\n",
    "net = CharRNN(chars, n_hidden, n_layers)\n",
    "print(net)"
   ]
  },
  {
   "cell_type": "code",
   "execution_count": 17,
   "metadata": {
    "scrolled": false
   },
   "outputs": [
    {
     "name": "stdout",
     "output_type": "stream",
     "text": [
      "Epoch: 1/20... Step: 30... Loss: 3.1351... Val Loss: 3.1198\n",
      "Epoch: 1/20... Step: 60... Loss: 3.1162... Val Loss: 3.1142\n",
      "Epoch: 1/20... Step: 90... Loss: 3.0975... Val Loss: 3.0813\n",
      "Epoch: 1/20... Step: 120... Loss: 2.8510... Val Loss: 2.8343\n",
      "Epoch: 2/20... Step: 150... Loss: 2.5919... Val Loss: 2.5375\n",
      "Epoch: 2/20... Step: 180... Loss: 2.4418... Val Loss: 2.4098\n",
      "Epoch: 2/20... Step: 210... Loss: 2.3525... Val Loss: 2.3187\n",
      "Epoch: 2/20... Step: 240... Loss: 2.2692... Val Loss: 2.2387\n",
      "Epoch: 2/20... Step: 270... Loss: 2.1888... Val Loss: 2.1618\n",
      "Epoch: 3/20... Step: 300... Loss: 2.1315... Val Loss: 2.0998\n",
      "Epoch: 3/20... Step: 330... Loss: 2.0396... Val Loss: 2.0404\n",
      "Epoch: 3/20... Step: 360... Loss: 1.9811... Val Loss: 1.9880\n",
      "Epoch: 3/20... Step: 390... Loss: 1.9622... Val Loss: 1.9414\n",
      "Epoch: 4/20... Step: 420... Loss: 1.9321... Val Loss: 1.8999\n",
      "Epoch: 4/20... Step: 450... Loss: 1.8348... Val Loss: 1.8597\n",
      "Epoch: 4/20... Step: 480... Loss: 1.8399... Val Loss: 1.8228\n",
      "Epoch: 4/20... Step: 510... Loss: 1.8231... Val Loss: 1.7914\n",
      "Epoch: 4/20... Step: 540... Loss: 1.7585... Val Loss: 1.7547\n",
      "Epoch: 5/20... Step: 570... Loss: 1.7472... Val Loss: 1.7318\n",
      "Epoch: 5/20... Step: 600... Loss: 1.7179... Val Loss: 1.7043\n",
      "Epoch: 5/20... Step: 630... Loss: 1.7254... Val Loss: 1.6838\n",
      "Epoch: 5/20... Step: 660... Loss: 1.6558... Val Loss: 1.6583\n",
      "Epoch: 5/20... Step: 690... Loss: 1.6521... Val Loss: 1.6391\n",
      "Epoch: 6/20... Step: 720... Loss: 1.6205... Val Loss: 1.6186\n",
      "Epoch: 6/20... Step: 750... Loss: 1.5964... Val Loss: 1.6040\n",
      "Epoch: 6/20... Step: 780... Loss: 1.6078... Val Loss: 1.5931\n",
      "Epoch: 6/20... Step: 810... Loss: 1.5880... Val Loss: 1.5780\n",
      "Epoch: 7/20... Step: 840... Loss: 1.5541... Val Loss: 1.5612\n",
      "Epoch: 7/20... Step: 870... Loss: 1.5597... Val Loss: 1.5493\n",
      "Epoch: 7/20... Step: 900... Loss: 1.5460... Val Loss: 1.5381\n",
      "Epoch: 7/20... Step: 930... Loss: 1.5274... Val Loss: 1.5208\n",
      "Epoch: 7/20... Step: 960... Loss: 1.5330... Val Loss: 1.5132\n",
      "Epoch: 8/20... Step: 990... Loss: 1.5164... Val Loss: 1.4974\n",
      "Epoch: 8/20... Step: 1020... Loss: 1.5145... Val Loss: 1.4911\n",
      "Epoch: 8/20... Step: 1050... Loss: 1.4816... Val Loss: 1.4878\n",
      "Epoch: 8/20... Step: 1080... Loss: 1.4779... Val Loss: 1.4777\n",
      "Epoch: 8/20... Step: 1110... Loss: 1.4753... Val Loss: 1.4638\n",
      "Epoch: 9/20... Step: 1140... Loss: 1.4788... Val Loss: 1.4567\n",
      "Epoch: 9/20... Step: 1170... Loss: 1.4541... Val Loss: 1.4506\n",
      "Epoch: 9/20... Step: 1200... Loss: 1.4267... Val Loss: 1.4427\n",
      "Epoch: 9/20... Step: 1230... Loss: 1.4211... Val Loss: 1.4381\n",
      "Epoch: 10/20... Step: 1260... Loss: 1.4422... Val Loss: 1.4373\n",
      "Epoch: 10/20... Step: 1290... Loss: 1.4325... Val Loss: 1.4273\n",
      "Epoch: 10/20... Step: 1320... Loss: 1.3955... Val Loss: 1.4202\n",
      "Epoch: 10/20... Step: 1350... Loss: 1.3855... Val Loss: 1.4129\n",
      "Epoch: 10/20... Step: 1380... Loss: 1.4207... Val Loss: 1.4104\n",
      "Epoch: 11/20... Step: 1410... Loss: 1.4509... Val Loss: 1.4006\n",
      "Epoch: 11/20... Step: 1440... Loss: 1.4232... Val Loss: 1.3966\n",
      "Epoch: 11/20... Step: 1470... Loss: 1.3679... Val Loss: 1.3927\n",
      "Epoch: 11/20... Step: 1500... Loss: 1.3643... Val Loss: 1.3945\n",
      "Epoch: 12/20... Step: 1530... Loss: 1.4480... Val Loss: 1.3843\n",
      "Epoch: 12/20... Step: 1560... Loss: 1.4036... Val Loss: 1.3795\n",
      "Epoch: 12/20... Step: 1590... Loss: 1.3313... Val Loss: 1.3774\n",
      "Epoch: 12/20... Step: 1620... Loss: 1.3404... Val Loss: 1.3722\n",
      "Epoch: 12/20... Step: 1650... Loss: 1.3181... Val Loss: 1.3693\n",
      "Epoch: 13/20... Step: 1680... Loss: 1.3505... Val Loss: 1.3661\n",
      "Epoch: 13/20... Step: 1710... Loss: 1.3141... Val Loss: 1.3644\n",
      "Epoch: 13/20... Step: 1740... Loss: 1.3274... Val Loss: 1.3574\n",
      "Epoch: 13/20... Step: 1770... Loss: 1.3445... Val Loss: 1.3565\n",
      "Epoch: 13/20... Step: 1800... Loss: 1.3335... Val Loss: 1.3497\n",
      "Epoch: 14/20... Step: 1830... Loss: 1.3364... Val Loss: 1.3535\n",
      "Epoch: 14/20... Step: 1860... Loss: 1.3274... Val Loss: 1.3497\n",
      "Epoch: 14/20... Step: 1890... Loss: 1.3385... Val Loss: 1.3455\n",
      "Epoch: 14/20... Step: 1920... Loss: 1.3120... Val Loss: 1.3413\n",
      "Epoch: 15/20... Step: 1950... Loss: 1.3097... Val Loss: 1.3493\n",
      "Epoch: 15/20... Step: 1980... Loss: 1.2927... Val Loss: 1.3429\n",
      "Epoch: 15/20... Step: 2010... Loss: 1.2945... Val Loss: 1.3357\n",
      "Epoch: 15/20... Step: 2040... Loss: 1.3026... Val Loss: 1.3295\n",
      "Epoch: 15/20... Step: 2070... Loss: 1.2996... Val Loss: 1.3275\n",
      "Epoch: 16/20... Step: 2100... Loss: 1.2813... Val Loss: 1.3277\n",
      "Epoch: 16/20... Step: 2130... Loss: 1.2603... Val Loss: 1.3280\n",
      "Epoch: 16/20... Step: 2160... Loss: 1.2786... Val Loss: 1.3225\n",
      "Epoch: 16/20... Step: 2190... Loss: 1.2894... Val Loss: 1.3173\n",
      "Epoch: 16/20... Step: 2220... Loss: 1.2828... Val Loss: 1.3165\n",
      "Epoch: 17/20... Step: 2250... Loss: 1.2541... Val Loss: 1.3252\n",
      "Epoch: 17/20... Step: 2280... Loss: 1.2739... Val Loss: 1.3156\n",
      "Epoch: 17/20... Step: 2310... Loss: 1.2615... Val Loss: 1.3154\n",
      "Epoch: 17/20... Step: 2340... Loss: 1.2724... Val Loss: 1.3070\n",
      "Epoch: 18/20... Step: 2370... Loss: 1.2477... Val Loss: 1.3176\n",
      "Epoch: 18/20... Step: 2400... Loss: 1.2743... Val Loss: 1.3128\n",
      "Epoch: 18/20... Step: 2430... Loss: 1.2638... Val Loss: 1.3099\n",
      "Epoch: 18/20... Step: 2460... Loss: 1.2513... Val Loss: 1.3054\n",
      "Epoch: 18/20... Step: 2490... Loss: 1.2336... Val Loss: 1.3031\n",
      "Epoch: 19/20... Step: 2520... Loss: 1.2555... Val Loss: 1.3077\n",
      "Epoch: 19/20... Step: 2550... Loss: 1.2383... Val Loss: 1.3027\n",
      "Epoch: 19/20... Step: 2580... Loss: 1.2717... Val Loss: 1.2976\n",
      "Epoch: 19/20... Step: 2610... Loss: 1.2348... Val Loss: 1.2979\n",
      "Epoch: 19/20... Step: 2640... Loss: 1.2369... Val Loss: 1.2982\n",
      "Epoch: 20/20... Step: 2670... Loss: 1.2507... Val Loss: 1.3014\n",
      "Epoch: 20/20... Step: 2700... Loss: 1.2406... Val Loss: 1.2904\n",
      "Epoch: 20/20... Step: 2730... Loss: 1.2052... Val Loss: 1.2945\n",
      "Epoch: 20/20... Step: 2760... Loss: 1.2040... Val Loss: 1.2908\n"
     ]
    }
   ],
   "source": [
    "batch_size = 128\n",
    "seq_length = 100\n",
    "n_epochs = 20 # start smaller if you are just testing initial behavior\n",
    "\n",
    "# train the model\n",
    "train(net, encoded, epochs=n_epochs, batch_size=batch_size, seq_length=seq_length, lr=0.001, print_every=30)"
   ]
  },
  {
   "cell_type": "markdown",
   "metadata": {},
   "source": [
    "## Getting the best model\n",
    "\n",
    "To set your hyperparameters to get the best performance, you'll want to watch the training and validation losses. If your training loss is much lower than the validation loss, you're overfitting. Increase regularization (more dropout) or use a smaller network. If the training and validation losses are close, you're underfitting so you can increase the size of the network."
   ]
  },
  {
   "cell_type": "markdown",
   "metadata": {},
   "source": [
    "## Hyperparameters\n",
    "\n",
    "Here are the hyperparameters for the network.\n",
    "\n",
    "In defining the model:\n",
    "* `n_hidden` - The number of units in the hidden layers.\n",
    "* `n_layers` - Number of hidden LSTM layers to use.\n",
    "\n",
    "We assume that dropout probability and learning rate will be kept at the default, in this example.\n",
    "\n",
    "And in training:\n",
    "* `batch_size` - Number of sequences running through the network in one pass.\n",
    "* `seq_length` - Number of characters in the sequence the network is trained on. Larger is better typically, the network will learn more long range dependencies. But it takes longer to train. 100 is typically a good number here.\n",
    "* `lr` - Learning rate for training\n",
    "\n",
    "Here's some good advice from Andrej Karpathy on training the network. I'm going to copy it in here for your benefit, but also link to [where it originally came from](https://github.com/karpathy/char-rnn#tips-and-tricks).\n",
    "\n",
    "> ## Tips and Tricks\n",
    "\n",
    ">### Monitoring Validation Loss vs. Training Loss\n",
    ">If you're somewhat new to Machine Learning or Neural Networks it can take a bit of expertise to get good models. The most important quantity to keep track of is the difference between your training loss (printed during training) and the validation loss (printed once in a while when the RNN is run on the validation data (by default every 1000 iterations)). In particular:\n",
    "\n",
    "> - If your training loss is much lower than validation loss then this means the network might be **overfitting**. Solutions to this are to decrease your network size, or to increase dropout. For example you could try dropout of 0.5 and so on.\n",
    "> - If your training/validation loss are about equal then your model is **underfitting**. Increase the size of your model (either number of layers or the raw number of neurons per layer)\n",
    "\n",
    "> ### Approximate number of parameters\n",
    "\n",
    "> The two most important parameters that control the model are `n_hidden` and `n_layers`. I would advise that you always use `n_layers` of either 2/3. The `n_hidden` can be adjusted based on how much data you have. The two important quantities to keep track of here are:\n",
    "\n",
    "> - The number of parameters in your model. This is printed when you start training.\n",
    "> - The size of your dataset. 1MB file is approximately 1 million characters.\n",
    "\n",
    ">These two should be about the same order of magnitude. It's a little tricky to tell. Here are some examples:\n",
    "\n",
    "> - I have a 100MB dataset and I'm using the default parameter settings (which currently print 150K parameters). My data size is significantly larger (100 mil >> 0.15 mil), so I expect to heavily underfit. I am thinking I can comfortably afford to make `n_hidden` larger.\n",
    "> - I have a 10MB dataset and running a 10 million parameter model. I'm slightly nervous and I'm carefully monitoring my validation loss. If it's larger than my training loss then I may want to try to increase dropout a bit and see if that helps the validation loss.\n",
    "\n",
    "> ### Best models strategy\n",
    "\n",
    ">The winning strategy to obtaining very good models (if you have the compute time) is to always err on making the network larger (as large as you're willing to wait for it to compute) and then try different dropout values (between 0,1). Whatever model has the best validation performance (the loss, written in the checkpoint filename, low is good) is the one you should use in the end.\n",
    "\n",
    ">It is very common in deep learning to run many different models with many different hyperparameter settings, and in the end take whatever checkpoint gave the best validation performance.\n",
    "\n",
    ">By the way, the size of your training and validation splits are also parameters. Make sure you have a decent amount of data in your validation set or otherwise the validation performance will be noisy and not very informative."
   ]
  },
  {
   "cell_type": "markdown",
   "metadata": {},
   "source": [
    "## Checkpoint\n",
    "\n",
    "After training, we'll save the model so we can load it again later if we need too. Here I'm saving the parameters needed to create the same architecture, the hidden layer hyperparameters and the text characters."
   ]
  },
  {
   "cell_type": "code",
   "execution_count": 18,
   "metadata": {
    "collapsed": true
   },
   "outputs": [],
   "source": [
    "# change the name, for saving multiple files\n",
    "model_name = 'rnn_20_epoch.net'\n",
    "\n",
    "checkpoint = {'n_hidden': net.n_hidden,\n",
    "              'n_layers': net.n_layers,\n",
    "              'state_dict': net.state_dict(),\n",
    "              'tokens': net.chars}\n",
    "\n",
    "with open(model_name, 'wb') as f:\n",
    "    torch.save(checkpoint, f)"
   ]
  },
  {
   "cell_type": "markdown",
   "metadata": {},
   "source": [
    "---\n",
    "## Making Predictions\n",
    "\n",
    "Now that the model is trained, we'll want to sample from it and make predictions about next characters! To sample, we pass in a character and have the network predict the next character. Then we take that character, pass it back in, and get another predicted character. Just keep doing this and you'll generate a bunch of text!\n",
    "\n",
    "### A note on the `predict`  function\n",
    "\n",
    "The output of our RNN is from a fully-connected layer and it outputs a **distribution of next-character scores**.\n",
    "\n",
    "> To actually get the next character, we apply a softmax function, which gives us a *probability* distribution that we can then sample to predict the next character.\n",
    "\n",
    "### Top K sampling\n",
    "\n",
    "Our predictions come from a categorical probability distribution over all the possible characters. We can make the sample text and make it more reasonable to handle (with less variables) by only considering some $K$ most probable characters. This will prevent the network from giving us completely absurd characters while allowing it to introduce some noise and randomness into the sampled text. Read more about [topk, here](https://pytorch.org/docs/stable/torch.html#torch.topk).\n"
   ]
  },
  {
   "cell_type": "code",
   "execution_count": 19,
   "metadata": {},
   "outputs": [],
   "source": [
    "def predict(net, char, h=None, top_k=None):\n",
    "        ''' Given a character, predict the next character.\n",
    "            Returns the predicted character and the hidden state.\n",
    "        '''\n",
    "        \n",
    "        # tensor inputs\n",
    "        x = np.array([[net.char2int[char]]])\n",
    "        x = one_hot_encode(x, len(net.chars))\n",
    "        inputs = torch.from_numpy(x).to(device)\n",
    "        \n",
    "        # detach hidden state from history\n",
    "        h = tuple([each.data for each in h])\n",
    "        # get the output of the model\n",
    "        out, h = net(inputs, h)\n",
    "\n",
    "        # get the character probabilities\n",
    "        p = F.softmax(out, dim=1).data\n",
    "        \n",
    "        if torch.cuda.is_available():\n",
    "            p = p.cpu() # move to cpu\n",
    "        \n",
    "        # get top characters\n",
    "        if top_k is None:\n",
    "            top_ch = np.arange(len(net.chars))\n",
    "        else:\n",
    "            p, top_ch = p.topk(top_k)\n",
    "            top_ch = top_ch.numpy().squeeze()\n",
    "        \n",
    "        # select the likely next character with some element of randomness\n",
    "        p = p.numpy().squeeze()\n",
    "        char = np.random.choice(top_ch, p=p/p.sum())\n",
    "        \n",
    "        # return the encoded value of the predicted char and the hidden state\n",
    "        return net.int2char[char], h"
   ]
  },
  {
   "cell_type": "markdown",
   "metadata": {},
   "source": [
    "### Priming and generating text \n",
    "\n",
    "Typically you'll want to prime the network so you can build up a hidden state. Otherwise the network will start out generating characters at random. In general the first bunch of characters will be a little rough since it hasn't built up a long history of characters to predict from."
   ]
  },
  {
   "cell_type": "code",
   "execution_count": 20,
   "metadata": {
    "collapsed": true
   },
   "outputs": [],
   "source": [
    "def sample(net, size, prime='The', top_k=None):\n",
    "        \n",
    "    net.to(device)\n",
    "    \n",
    "    net.eval() # eval mode\n",
    "    \n",
    "    # First off, run through the prime characters\n",
    "    chars = [ch for ch in prime]\n",
    "    h = net.init_hidden(1)\n",
    "    for ch in prime:\n",
    "        char, h = predict(net, ch, h, top_k=top_k)\n",
    "\n",
    "    chars.append(char)\n",
    "    \n",
    "    # Now pass in the previous character and get a new one\n",
    "    for ii in range(size):\n",
    "        char, h = predict(net, chars[-1], h, top_k=top_k)\n",
    "        chars.append(char)\n",
    "\n",
    "    return ''.join(chars)"
   ]
  },
  {
   "cell_type": "code",
   "execution_count": 21,
   "metadata": {},
   "outputs": [
    {
     "name": "stdout",
     "output_type": "stream",
     "text": [
      "Anna.... Well, all should be anything, and the man so money than they\n",
      "could not\n",
      "blome to meet him,\n",
      "while he does not believe\n",
      "to speak, well, the prince. The deliberation had not been so\n",
      "infurest for him. He would not be feeling that the conversation would see\n",
      "make them out of his come to see more and\n",
      "as sunsable to happen for them. In the position, would be said so that he has been sawing to her fears, and the money. If you did some sort of man.\"\n",
      "\n",
      "She was already and\n",
      "heard the darling. The parts of her son's fine was her\n",
      "eyes of anyone had to believe, when he has been at a sister to him an evening from so leave, but the\n",
      "more passions was beginning to spend her talking, but her susions transeficed, and which he had an inquired by\n",
      "the peasants, and a concepling the peasant, and\n",
      "he had to go in, they had been so time. At that simple to the same time the commission of the pore to have tell me, but that she was not to go to the carriage. And where there was no desire. And to\n",
      "the same such a litt\n"
     ]
    }
   ],
   "source": [
    "print(sample(net, 1000, prime='Anna', top_k=5))"
   ]
  },
  {
   "cell_type": "markdown",
   "metadata": {},
   "source": [
    "## Loading a checkpoint"
   ]
  },
  {
   "cell_type": "code",
   "execution_count": 22,
   "metadata": {
    "collapsed": true
   },
   "outputs": [],
   "source": [
    "# Here we have loaded in a model that trained over 20 epochs `rnn_20_epoch.net`\n",
    "with open('rnn_20_epoch.net', 'rb') as f:\n",
    "    checkpoint = torch.load(f)\n",
    "    \n",
    "loaded = CharRNN(checkpoint['tokens'], n_hidden=checkpoint['n_hidden'], n_layers=checkpoint['n_layers'])\n",
    "loaded.load_state_dict(checkpoint['state_dict'])"
   ]
  },
  {
   "cell_type": "code",
   "execution_count": 23,
   "metadata": {},
   "outputs": [
    {
     "name": "stdout",
     "output_type": "stream",
     "text": [
      "And Levin said, with some prainess and handsome fine course that soon as a mare was an end of his father, had seen to his wife, and when he\n",
      "had said it, started on the such an articularless\n",
      "confection, the fresh, happened at some son. They were saying that his hands had\n",
      "not come to the straight into the croud, and was clearly, with sour\n",
      "familiar strange feeling, and the\n",
      "conversation helped it, she hurryed to Levin, but his brother had been completely finding his wife and the fatience of his watch, tried to hear the\n",
      "station of him, all over the close to stand the prince to him she came ovirgly and driven towards the dinner, and all the concerrations of their was the many're a stope of an official and face, and he was and seen it and still so much tinger. That he felt to take home to him and an officer.\n",
      " Ivan the same second mere sincere, had so different to the\n",
      "strength, and the doctor, was standing a sight and\n",
      "attractod back of all the\n",
      "state for himself as at all the sack\n",
      "and seeming, and he was always so stayed\n",
      "for him, whose son to stop him, was at the time of all\n",
      "the feelings when they were saint.\n",
      "\n",
      "\"I've not considered you, thark you say that you don't told you that it's to dance,\" said Alexey\n",
      "Alexandrovitch, wasteling out.\n",
      "\n",
      "\"There's nothing to do the drive. And I did not certain my husoa.\"\n",
      "\n",
      "\"Oh, I didn't care. I am so for the\n",
      "conversation of the princess is to be such a\n",
      "pressionance of simplest.\"\n",
      "\n",
      "\"It's a little still and made here.\"\n",
      "\n",
      "And they had been the\n",
      "commuriction, but at the conviction of the more heart had been dreathed and at that contimual stuny out, he was all that this wise to\n",
      "consist the same\n",
      "to any studior. It\n",
      "was the sound of the\n",
      "country.\n",
      "\n",
      "\"You didn't know how all you will be answered to be about her so let alone? I am an a shooting of the meatos work into seem, who has a gentleman and too, and so that the post the cross of some misiresing her,\" said Levin. \"It was the same in the fearful time.\"\n",
      "\n",
      "\"Well, we can't\n",
      "get to\n",
      "this,\". And simply suddenly at the matter of\n"
     ]
    }
   ],
   "source": [
    "# Sample using a loaded model\n",
    "print(sample(loaded, 2000, top_k=5, prime=\"And Levin said\"))"
   ]
  }
 ],
 "metadata": {
  "kernelspec": {
   "display_name": "Python 3",
   "language": "python",
   "name": "python3"
  },
  "language_info": {
   "codemirror_mode": {
    "name": "ipython",
    "version": 3
   },
   "file_extension": ".py",
   "mimetype": "text/x-python",
   "name": "python",
   "nbconvert_exporter": "python",
   "pygments_lexer": "ipython3",
   "version": "3.6.6"
  }
 },
 "nbformat": 4,
 "nbformat_minor": 2
}
