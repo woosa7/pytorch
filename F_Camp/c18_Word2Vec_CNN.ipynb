{
 "cells": [
  {
   "cell_type": "markdown",
   "metadata": {},
   "source": [
    "# Lec 18. Word2Vec with CNN - Sentiment Analysis"
   ]
  },
  {
   "cell_type": "code",
   "execution_count": 1,
   "metadata": {},
   "outputs": [
    {
     "name": "stderr",
     "output_type": "stream",
     "text": [
      "C:\\Anaconda3\\lib\\site-packages\\gensim\\utils.py:1197: UserWarning: detected Windows; aliasing chunkize to chunkize_serial\n",
      "  warnings.warn(\"detected Windows; aliasing chunkize to chunkize_serial\")\n"
     ]
    }
   ],
   "source": [
    "import pandas as pd\n",
    "import numpy as np\n",
    "import random\n",
    "\n",
    "from konlpy.tag import Okt\n",
    "from gensim.models import word2vec\n",
    "\n",
    "import torch\n",
    "import torch.nn as nn\n",
    "import torch.utils.data as data_utils\n",
    "\n",
    "from sklearn.model_selection import train_test_split"
   ]
  },
  {
   "cell_type": "markdown",
   "metadata": {},
   "source": [
    "## Load Data"
   ]
  },
  {
   "cell_type": "code",
   "execution_count": 2,
   "metadata": {
    "collapsed": true
   },
   "outputs": [],
   "source": [
    "filename = \"data/score_발열.xlsx\"\n",
    "sheet_name = \"Sheet1\"\n",
    "data = pd.read_excel(filename, sheet_name = sheet_name, header = 0)\n",
    "\n",
    "csv_data = [item.replace(\"#\", \"\").strip() for item in data['Review']]\n",
    "csv_label = data['Score']"
   ]
  },
  {
   "cell_type": "code",
   "execution_count": 3,
   "metadata": {},
   "outputs": [
    {
     "data": {
      "text/plain": [
       "['발열히 심한거 같은데 여름이라 그런가?..',\n",
       " '발열이좀 심한거 같아서 걱정이에요',\n",
       " '발열이심하더라구요',\n",
       " '발열이너무심한게 제일큰 단점인것 같고 그외에 불편한점은',\n",
       " '발열이...정말...심합니다']"
      ]
     },
     "execution_count": 3,
     "metadata": {},
     "output_type": "execute_result"
    }
   ],
   "source": [
    "csv_data[:5]"
   ]
  },
  {
   "cell_type": "markdown",
   "metadata": {},
   "source": [
    "## Word2Vec Trasformation"
   ]
  },
  {
   "cell_type": "code",
   "execution_count": 4,
   "metadata": {
    "collapsed": true
   },
   "outputs": [],
   "source": [
    "twitter = Okt()\n",
    "size = 500\n",
    "\n",
    "doc = []\n",
    "\n",
    "for sentence in csv_data :\n",
    "    results= []\n",
    "    tokens = twitter.pos(sentence, norm=True, stem=True)\n",
    "        \n",
    "    for token in tokens:\n",
    "        if not token[1] in [\"Josa\", \"Eomi\", \"Punctuation\"]:\n",
    "            results.append(token[0])\n",
    "    doc.append(results)"
   ]
  },
  {
   "cell_type": "code",
   "execution_count": 5,
   "metadata": {},
   "outputs": [
    {
     "data": {
      "text/plain": [
       "[['발열', '히', '심하다', '같다', '여름', '그', '런가'],\n",
       " ['발열', '이', '좀', '심하다', '같다', '걱정'],\n",
       " ['발열', '심하다'],\n",
       " ['발열', '이', '너', '무심하다', '제일', '크다', '단점', '것', '같다', '그', '외', '불편하다', '점'],\n",
       " ['발열', '정말', '심하다']]"
      ]
     },
     "execution_count": 5,
     "metadata": {},
     "output_type": "execute_result"
    }
   ],
   "source": [
    "doc[:5]"
   ]
  },
  {
   "cell_type": "markdown",
   "metadata": {},
   "source": [
    "* sentences (iterable of iterables, optional) – The sentences iterable can be simply a list of lists of tokens, but for larger corpora, consider an iterable that streams the sentences directly from disk/network. See BrownCorpus, Text8Corpus or LineSentence in word2vec module for such examples. See also the tutorial on data streaming in Python. If you don’t supply sentences, the model is left uninitialized – use if you plan to initialize it in some other way.\n",
    "* size (int, optional) – Dimensionality of the word vectors.\n",
    "* window (int, optional) – Maximum distance between the current and predicted word within a sentence.\n",
    "* min_count (int, optional) – Ignores all words with total frequency lower than this.\n",
    "* workers (int, optional) – Use these many worker threads to train the model (=faster training with multicore machines).\n",
    "* sg ({0, 1}, optional) – Training algorithm: 1 for skip-gram; otherwise CBOW.\n",
    "* hs ({0, 1}, optional) – If 1, hierarchical softmax will be used for model training. If 0, and negative is non-zero, negative sampling will be used.\n",
    "* negative (int, optional) – If > 0, negative sampling will be used, the int for negative specifies how many “noise words” should be drawn (usually between 5-20). If set to 0, no negative sampling is used."
   ]
  },
  {
   "cell_type": "code",
   "execution_count": 6,
   "metadata": {
    "collapsed": true
   },
   "outputs": [],
   "source": [
    "model = word2vec.Word2Vec(doc, size=size, window=2, hs=0, min_count=3, sg=0)\n",
    "\n",
    "w2v = dict(zip(model.wv.index2word, model.wv.vectors))\n",
    "\n",
    "del model"
   ]
  },
  {
   "cell_type": "code",
   "execution_count": 7,
   "metadata": {},
   "outputs": [
    {
     "data": {
      "text/plain": [
       "dict_keys(['발열', '없다', '있다', '하다', '소음', '좋다', '심하다', '같다', '않다', '거의', '좀', '적다', '자다', '것', '잡다', '문제', '조금', '되다', '정도', '생각', '만족하다', '괜찮다', '못', '노트북', '사용', '이', '느끼다', '잘', '너무', '부분', '이다', '팬', '성능', '쿨러', '정말', '돌아가다', '제품', '별로', '걱정', '크다', '배터리', '수', '많이', '더', '전혀', '게임', '보다', '속도', '도', '아직', '매우', '아주', '가볍다', '소리', '안', '쓸다', '어쩔', '느껴지다', '다', '때문', '적', '나다', '그렇다', '키', '편이', '관리', '아니다', '신경', '크게', '조용하다', '약간', '때', '많다', '하', '및', '네', '보이다', '만족', '그', '쓰다', '상당하다', '들다', '없이', '거', '꽤', '보드', '오래', '쿨링', '무게', '아쉽다', '디자인', '제어', '점', '심해', '높다', '빠르다', '양호', '또한', '대', '모두', '빼다', '돌리다', '모르다', '발생', '다른', '맘', '감다', '잡히다', '되어다', '확실하다', '요', '진짜', '들', '삼성', '시간', '해보다', '사양', '가격', '감', '편', '모델', '안나', '가다', '비', '개선', '단점', '사', '느낌', '하지만', '제', '뜨겁다', '펜', '하나', '시', '듯', '사은', '써다', '수준', '최고', '만족스럽다', '은', '구매', '습', '메탈', '약하다', '상태', '충전', '판', '안되다', '굉장하다', '훨씬', '품', '작업', '화면', '발', '열량', '그렇게', '장시간', '생기다', '지다', '중', '무엇', '걸리다', '받침', '구성', '깔끔하다', '저', '인터넷', '그래픽', '패드', '이상', '그램', '성', '한', '아', '기능', '불편하다', '프로그램', '심', '심다', '마음', '듭니', '막', '부팅', '느리다', '센터', '늘다', '3', '낮다', '지금', '빠지다', '준수', '처리', '알', '주다', '어느', '배송', '그래도', '필요', '돌다', '아예', '데스크탑', '따뜻하다', '카드', '고', '엄청', '완벽하다', '오다', '면', '가성', '우수하다', '선택', '덜', '작다', '패널', '히', '램', '용량', '끊기다', '이렇다', '원래', '살짝', '나', '화이트', '내다', '인하다', '고민', '내', '이쁘다', '현상', '장점', '일어나서', '편입', '니', '컴퓨터', '이정', '따다', '편하다', '이면', '받다', '뭐', '나오다', '등등', '후', '뜨다', '사다', '설치', '50', '70', '쓰이다', '펴다', 'ㅜㅜ', '등', '모니터', '던지다', '추천', '그리다', '대다', '대비', '딱하다', '뒤틀리다', '모든', '완전', '알다', '뛰어나다', '특히', '기', '물론', '역시', '이슈', '여름', '너', '무심하다', '외', '한편', '밧데리', '자판', '이전', '불량', '심해지다', '라면', '화상', '신분', '야하다', '제외', '자주', '5', '치다', '소', '어', '전', '하드', '왼쪽', '비다', '비추다', '휴대', '다니다', '9', '이제', '조절', '잡지', '다소', '따르다', '4', '차이', '수가', '어떻다', '켜다', '능력', '떨어지다', '오래되다', '손', '임', '옆', '돼다', '그냥', '절대', '한성', '얇다', '일이', '해소', '쫌', '기본', 'S', '서비스', '정', '문서', '두다', '온도', '예쁘다', '뜻', '겨울', '나쁘다', '액정', '레노버', '처음', '얘기', '연결', 'ㅎ', '평소', '노트', '곳', '별', 'SSD', '마감', '윈도우', '7', '추가', '보통', '분', '차다', '빠릿빠릿', '일', '적당하다', '굿', '무겁다', '줄', 'i', '짧다', '기다', '딱', '증상', '현재', '화질', '보', 'ssd', '하니', '이렇게', '화', '상', '금', '놀라다', '점수', '무리', '외관', '대단하다', '저렴하다', '동', '잡고', '엄청나다', '안심', '배그', 'ips', '할인'])"
      ]
     },
     "execution_count": 7,
     "metadata": {},
     "output_type": "execute_result"
    }
   ],
   "source": [
    "w2v.keys()"
   ]
  },
  {
   "cell_type": "code",
   "execution_count": 8,
   "metadata": {
    "collapsed": true
   },
   "outputs": [],
   "source": [
    "# Document to 3-dim Matrix with Word2Vector & Get Max Length of Sentence\n",
    "# 길이가 가장 큰 문장의 길이에 맞춰 0 추가\n",
    "\n",
    "doc2vec = []\n",
    "max_length = 0\n",
    "\n",
    "for sentence in doc :\n",
    "    temp = []\n",
    "    length = 0\n",
    "    \n",
    "    for word in sentence :\n",
    "        if word in w2v.keys() :\n",
    "            temp.append(w2v[word])\n",
    "            length += 1\n",
    "            \n",
    "    doc2vec.append(temp)\n",
    "    \n",
    "    if max_length <= length :\n",
    "        max_length = length"
   ]
  },
  {
   "cell_type": "code",
   "execution_count": 9,
   "metadata": {
    "collapsed": true
   },
   "outputs": [],
   "source": [
    "# Fill zeros for fitting size\n",
    "for sentence in doc2vec :\n",
    "    \n",
    "    length = len(sentence)\n",
    "    \n",
    "    while length < max_length :\n",
    "        sentence.append(np.zeros(size))\n",
    "        length += 1\n",
    "\n",
    "doc2vec = np.array(doc2vec)"
   ]
  },
  {
   "cell_type": "code",
   "execution_count": 10,
   "metadata": {},
   "outputs": [
    {
     "data": {
      "text/plain": [
       "(1211, 12, 500)"
      ]
     },
     "execution_count": 10,
     "metadata": {},
     "output_type": "execute_result"
    }
   ],
   "source": [
    "doc2vec.shape"
   ]
  },
  {
   "cell_type": "code",
   "execution_count": 11,
   "metadata": {
    "collapsed": true
   },
   "outputs": [],
   "source": [
    "data = doc2vec\n",
    "label = csv_label.values"
   ]
  },
  {
   "cell_type": "markdown",
   "metadata": {},
   "source": [
    "## Train/Test Spilt"
   ]
  },
  {
   "cell_type": "code",
   "execution_count": 12,
   "metadata": {},
   "outputs": [
    {
     "name": "stdout",
     "output_type": "stream",
     "text": [
      "908\n",
      "303\n"
     ]
    }
   ],
   "source": [
    "train_data, test_data, train_label, test_label = train_test_split(data, label)\n",
    "\n",
    "print(len(train_data))\n",
    "print(len(test_data))"
   ]
  },
  {
   "cell_type": "code",
   "execution_count": 13,
   "metadata": {
    "collapsed": true
   },
   "outputs": [],
   "source": [
    "x = torch.from_numpy(train_data).type(torch.FloatTensor)\n",
    "y = torch.from_numpy(train_label).type(torch.LongTensor)"
   ]
  },
  {
   "cell_type": "code",
   "execution_count": 14,
   "metadata": {
    "scrolled": true
   },
   "outputs": [
    {
     "data": {
      "text/plain": [
       "(torch.Size([908]), torch.Size([908, 12, 500]))"
      ]
     },
     "execution_count": 14,
     "metadata": {},
     "output_type": "execute_result"
    }
   ],
   "source": [
    "y.size() , x.size()"
   ]
  },
  {
   "cell_type": "code",
   "execution_count": 15,
   "metadata": {
    "collapsed": true
   },
   "outputs": [],
   "source": [
    "x = x.view(-1, 1, 12, 500)"
   ]
  },
  {
   "cell_type": "code",
   "execution_count": 16,
   "metadata": {
    "collapsed": true
   },
   "outputs": [],
   "source": [
    "train_data = data_utils.TensorDataset(x, y)\n",
    "\n",
    "batch_size = 10\n",
    "\n",
    "train_loader = torch.utils.data.DataLoader(dataset=train_data,\n",
    "                                           batch_size=batch_size,\n",
    "                                           shuffle=True,\n",
    "                                           num_workers=1,\n",
    "                                           drop_last = True)"
   ]
  },
  {
   "cell_type": "code",
   "execution_count": 17,
   "metadata": {},
   "outputs": [
    {
     "data": {
      "text/plain": [
       "torch.Size([10, 1, 12, 500])"
      ]
     },
     "execution_count": 17,
     "metadata": {},
     "output_type": "execute_result"
    }
   ],
   "source": [
    "text, label = iter(train_loader).next()\n",
    "text.shape"
   ]
  },
  {
   "cell_type": "markdown",
   "metadata": {},
   "source": [
    "## Define Model for Sentiment Analysis"
   ]
  },
  {
   "cell_type": "code",
   "execution_count": 18,
   "metadata": {
    "collapsed": true
   },
   "outputs": [],
   "source": [
    "class CNN(nn.Module):\n",
    "    def __init__(self):\n",
    "        super(CNN, self).__init__()\n",
    "        \n",
    "        self.layer = nn.Sequential(\n",
    "            nn.Conv2d(1,16,3),   # 1*12*500 -> 16*10*498\n",
    "            nn.BatchNorm2d(16),\n",
    "            nn.ReLU(),\n",
    "            \n",
    "            nn.Conv2d(16,32,3),  # 16*10*498 -> 32*8*496\n",
    "            nn.BatchNorm2d(32),\n",
    "            nn.ReLU(),\n",
    "            nn.MaxPool2d(2,2),   # 32*8*496 -> 32*4*248\n",
    "            \n",
    "            nn.Conv2d(32,64,3),  # 32*4*248 -> 64*2*246\n",
    "            nn.BatchNorm2d(64),\n",
    "            nn.ReLU(),\n",
    "            nn.MaxPool2d(2,2)    # 64*2*246 -> 64*1*123\n",
    "        )\n",
    "\n",
    "        self.fc_layer = nn.Sequential(\n",
    "            nn.Linear(64*1*123,100),\n",
    "            nn.ReLU(),\n",
    "            nn.Linear(100,3)\n",
    "        )       \n",
    "        \n",
    "    def forward(self,x):\n",
    "        out = self.layer(x)\n",
    "        out = out.view(-1,64*1*123)\n",
    "        out = self.fc_layer(out)\n",
    "\n",
    "        return out\n",
    "\n",
    "model = CNN().cuda()"
   ]
  },
  {
   "cell_type": "code",
   "execution_count": 19,
   "metadata": {
    "collapsed": true
   },
   "outputs": [],
   "source": [
    "loss = torch.nn.CrossEntropyLoss()\n",
    "# optimizer = torch.optim.Adam(model.parameters(), lr=0.001)\n",
    "optimizer = torch.optim.SGD(model.parameters(), lr=0.01)"
   ]
  },
  {
   "cell_type": "code",
   "execution_count": 20,
   "metadata": {
    "collapsed": true
   },
   "outputs": [],
   "source": [
    "num_epochs = 30"
   ]
  },
  {
   "cell_type": "code",
   "execution_count": 21,
   "metadata": {
    "scrolled": false
   },
   "outputs": [
    {
     "name": "stdout",
     "output_type": "stream",
     "text": [
      "Epoch [1/30], lter [90/90] Loss: 0.6230\n",
      "Epoch [2/30], lter [90/90] Loss: 0.9019\n",
      "Epoch [3/30], lter [90/90] Loss: 0.7881\n",
      "Epoch [4/30], lter [90/90] Loss: 0.5576\n",
      "Epoch [5/30], lter [90/90] Loss: 0.8675\n",
      "Epoch [6/30], lter [90/90] Loss: 0.8376\n",
      "Epoch [7/30], lter [90/90] Loss: 0.8033\n",
      "Epoch [8/30], lter [90/90] Loss: 1.0412\n",
      "Epoch [9/30], lter [90/90] Loss: 0.6446\n",
      "Epoch [10/30], lter [90/90] Loss: 0.7519\n",
      "Epoch [11/30], lter [90/90] Loss: 0.5286\n",
      "Epoch [12/30], lter [90/90] Loss: 0.8123\n",
      "Epoch [13/30], lter [90/90] Loss: 0.6668\n",
      "Epoch [14/30], lter [90/90] Loss: 0.8470\n",
      "Epoch [15/30], lter [90/90] Loss: 0.5784\n",
      "Epoch [16/30], lter [90/90] Loss: 0.4752\n",
      "Epoch [17/30], lter [90/90] Loss: 0.6593\n",
      "Epoch [18/30], lter [90/90] Loss: 1.2282\n",
      "Epoch [19/30], lter [90/90] Loss: 0.6718\n",
      "Epoch [20/30], lter [90/90] Loss: 0.4601\n",
      "Epoch [21/30], lter [90/90] Loss: 0.7973\n",
      "Epoch [22/30], lter [90/90] Loss: 1.4645\n",
      "Epoch [23/30], lter [90/90] Loss: 0.7047\n",
      "Epoch [24/30], lter [90/90] Loss: 0.9515\n",
      "Epoch [25/30], lter [90/90] Loss: 0.9847\n",
      "Epoch [26/30], lter [90/90] Loss: 0.5213\n",
      "Epoch [27/30], lter [90/90] Loss: 0.6983\n",
      "Epoch [28/30], lter [90/90] Loss: 0.5604\n",
      "Epoch [29/30], lter [90/90] Loss: 0.2716\n",
      "Epoch [30/30], lter [90/90] Loss: 0.6390\n",
      "Learning Finished!\n"
     ]
    }
   ],
   "source": [
    "for epoch in range(num_epochs):\n",
    "    avg_cost = 0\n",
    "    total_batch = len(train_data) // batch_size\n",
    "    \n",
    "    for i, (batch_text, batch_labels) in enumerate(train_loader):\n",
    "        \n",
    "        X = batch_text.cuda()\n",
    "        Y = batch_labels.cuda()\n",
    "        \n",
    "        pred = model(X)\n",
    "        cost = loss(pred, Y)\n",
    "        \n",
    "        optimizer.zero_grad()\n",
    "        cost.backward()\n",
    "        optimizer.step()\n",
    "        \n",
    "        if (i+1) == total_batch:\n",
    "            print('Epoch [%d/%d], lter [%d/%d] Loss: %.4f'%(epoch+1, num_epochs, i+1, total_batch, cost.item()))\n",
    "    \n",
    "print(\"Learning Finished!\")"
   ]
  },
  {
   "cell_type": "markdown",
   "metadata": {},
   "source": [
    "## 18.5 Test Model"
   ]
  },
  {
   "cell_type": "code",
   "execution_count": 22,
   "metadata": {
    "collapsed": true
   },
   "outputs": [],
   "source": [
    "x_test = torch.from_numpy(test_data).type(torch.FloatTensor)\n",
    "y_test = torch.from_numpy(test_label).type(torch.LongTensor)\n",
    "\n",
    "test_data = data_utils.TensorDataset(x, y)\n",
    "\n",
    "test_loader = torch.utils.data.DataLoader(dataset=test_data,\n",
    "                                          batch_size=1,\n",
    "                                          shuffle=True)"
   ]
  },
  {
   "cell_type": "code",
   "execution_count": 23,
   "metadata": {},
   "outputs": [
    {
     "name": "stdout",
     "output_type": "stream",
     "text": [
      "correct : 761\n",
      "total   : 908\n",
      "Accuracy of test images: 83.810573\n"
     ]
    }
   ],
   "source": [
    "model.eval()\n",
    "\n",
    "correct = 0\n",
    "total = 0\n",
    "\n",
    "for text, labels in test_loader:\n",
    "    \n",
    "    text = text.cuda()\n",
    "    outputs = model(text)\n",
    "    \n",
    "    _, pred = torch.max(outputs.data, 1)\n",
    "    total += 1\n",
    "    correct += (pred == labels.cuda()).sum()\n",
    "    \n",
    "correct = correct.cpu().numpy()    \n",
    "print('correct :', correct)\n",
    "print('total   :', total)\n",
    "print('Accuracy of test images: %f' % (100 * correct / total))"
   ]
  }
 ],
 "metadata": {
  "kernelspec": {
   "display_name": "Python 3",
   "language": "python",
   "name": "python3"
  },
  "language_info": {
   "codemirror_mode": {
    "name": "ipython",
    "version": 3
   },
   "file_extension": ".py",
   "mimetype": "text/x-python",
   "name": "python",
   "nbconvert_exporter": "python",
   "pygments_lexer": "ipython3",
   "version": "3.6.6"
  }
 },
 "nbformat": 4,
 "nbformat_minor": 2
}
