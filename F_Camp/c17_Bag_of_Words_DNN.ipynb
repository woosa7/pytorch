{
 "cells": [
  {
   "cell_type": "markdown",
   "metadata": {},
   "source": [
    "# Lec 17. Bag of Words - Sentiment Analysis"
   ]
  },
  {
   "cell_type": "code",
   "execution_count": 1,
   "metadata": {
    "collapsed": true
   },
   "outputs": [],
   "source": [
    "import codecs\n",
    "import pandas as pd\n",
    "import numpy as np\n",
    "import random\n",
    "\n",
    "from konlpy.tag import Okt\n",
    "from sklearn.model_selection import train_test_split\n",
    "from sklearn.feature_extraction.text import CountVectorizer\n",
    "from sklearn.feature_extraction.text import TfidfVectorizer\n",
    "\n",
    "import torch\n",
    "import torch.nn.init\n",
    "import torch.utils.data as data_utils"
   ]
  },
  {
   "cell_type": "code",
   "execution_count": 2,
   "metadata": {
    "collapsed": true
   },
   "outputs": [],
   "source": [
    "import matplotlib.pyplot as plt\n",
    "%matplotlib inline"
   ]
  },
  {
   "cell_type": "markdown",
   "metadata": {},
   "source": [
    "## Load Data"
   ]
  },
  {
   "cell_type": "code",
   "execution_count": 3,
   "metadata": {},
   "outputs": [
    {
     "data": {
      "text/plain": [
       "'# G마켓에 좋은 평만 있어서 사봤는데.. 정말 진짜 진짜 사지마세요. 개. 쓰. 레. 기 (진심) 입니다. 액정부터 짜증나는 TN패널에, 하드 SSD인걸로 알았는데, 속도는 저질 SD카드 꽂아 놓은것 같습니다. 정말 느려터집니다. 저는 단지 인터넷 뱅킹만 할려고, 샀단 말입니다. 그런데 인터넷 뱅킹 프로그램까는데만 10~20분 걸립니다. 뭐약!! 이게!! 분노로 인해 볼때마다 짜증납니다. 밤에 잠도 안오고요.. 사시면 분명 후회하실겁니다. 아! 진짜 G마켓 프리미엄평으로 실날하게 사진찍어서 올리려고했는데, 먹고 산다고 바빠서 프리미엄 평 못 올린게 정말 천추의 한이네요!!\\n# 원래 그런 줄 알고 사는 \"저가 제품\"이라고 생각합니다만. IPS라는 언급이 없으니 당연히 TN 패널일 테고, EMMC는 SSD가 아니고 SD 카드 내장된 것 같은 것이라 원래 SSD보다 느린 것이고, CPU도 아톰이니 뭐 당연히 느리죠. 그런 것 다 감안하고 \"싸고 가볍다\"는 조건으로 사는 제품인데요. 뭐 다만 얼만큼 액정 품질이 안 좋은지는 모르겠습니다. TN이라도 품질 등급이 있어서요.\\n# 그러다 조x스토킹 당합니다\\n# 음? 960g? LG GR...읍\\n# 발열은 어떤가요?ㅠㅠ\\n# Z3735니 크게 걱정될 수준이 아닐 것으로 보입니다. 동일CPU사용한 태블릿도 풀로드 60도도 넘기는걸 보기 힘든데, 이와 비슷하거나 더 낮지 않을까 싶네요.\\n# 무게 960g아닙니다. 갖고있던 그램과 비교햇을 때 훨씬 무거워서 혹시나 해서 전자저울로 측정해봤더니... 1대는 1075g, 나머지 한대는 1090g 바로 환불했습니다... -_-\\n# 그제 구입하여 사용중에 있습니다. eMMC하고 아톰이야 각오하고 구매하였으니 큰 문제 없는데..... 액정이 정말 쉣스럽네요 -ㅅ-;; 20만원대 다른 노트북을 사용해 본적이 없어서 비교는 되지 못합니다만, 이것 저것 건드려봐도 개선이 안되는게 근본적으로 글러먹은 액정입니다. 무게도 디자인도 잘 뽑아 놓고 이런데서 원가 절감을 해서 상품성을 떨어뜨리네요....'"
      ]
     },
     "execution_count": 3,
     "metadata": {},
     "output_type": "execute_result"
    }
   ],
   "source": [
    "f = codecs.open(\"data/reviews.txt\", 'r', 'utf-8')\n",
    "f.read()[:1000]"
   ]
  },
  {
   "cell_type": "markdown",
   "metadata": {},
   "source": [
    "## Extract Setences"
   ]
  },
  {
   "cell_type": "code",
   "execution_count": 4,
   "metadata": {
    "collapsed": true
   },
   "outputs": [],
   "source": [
    "# 원하는 리뷰만 추출하기\n",
    "\n",
    "keywords = [\"발열\", \"소음\"]\n",
    "\n",
    "for keyword in keywords :\n",
    "    temp_list = []\n",
    "    save_name = \"data/reviews_\" + keyword + \".txt\"\n",
    "    f = codecs.open(\"data/reviews.txt\", 'r', 'utf-8')\n",
    "    t = codecs.open(save_name, 'w', 'utf-8')\n",
    "    \n",
    "    while True:\n",
    "        line = f.readline()\n",
    "        if not line: break\n",
    "        if keyword in line :\n",
    "            temp_list.append(line)\n",
    "            \n",
    "    set_list = list(set(temp_list))\n",
    "    \n",
    "    for item in set_list :\n",
    "        t.write(item)\n",
    "        \n",
    "    f.close()\n",
    "    t.close()"
   ]
  },
  {
   "cell_type": "code",
   "execution_count": 5,
   "metadata": {},
   "outputs": [
    {
     "data": {
      "text/plain": [
       "'# 좋은가격에 좋은 제품 구매했습니다.스펙이 더 좋은 게이밍 노트북도 시중에 많지만 발열우려와 무게 때문에 이제품을 선택했는데 탁월한 선택이었던 것 같습니다. 디자인도 이쁘고 마음에 듭니다.\\n# 가성비 최곱니다. win10작업시 정말 빠릅니다. 정말 강추입니다. 그리고 가장 훌륭한건 디자인 팬소리는 다소 크지만 고성능 그래픽 장착이니 충분히 감수할수 있습니다. 노트북에 가장 큰 단점이 발열인데 전혀 없습니다. 만족스러운 제품 입니다. cpu 7세대 i7 이걸로 동종 모델들 다 잠제우기에 부족함이 없\\n# 금요일 오후 4시 넘어서 주문했는데 토요일 오전에 도착했어요 배송속도는 확실합니다~^^컴퓨터 사양은 모든 면에서 뛰어납니다.다들 알아보시고 구매를 진행하시겠지만 제가 사용하는 사진편집,인터넷 작업, 간단한 게임?등에서 전혀 문제가 되지 않습니다.소음은 켜논지 모를 정도로 조용하네요제가 소음에는 좀 민감한편인데 선풍기 소리보다 조용해요발열도 하루에 10시간 이상씩 작업을 진행하는데 본체'"
      ]
     },
     "execution_count": 5,
     "metadata": {},
     "output_type": "execute_result"
    }
   ],
   "source": [
    "f = codecs.open(\"data/reviews_발열.txt\", 'r', 'utf-8')\n",
    "f.read()[:500]"
   ]
  },
  {
   "cell_type": "code",
   "execution_count": 6,
   "metadata": {},
   "outputs": [
    {
     "data": {
      "text/plain": [
       "'# 총평: 하직 몇시간 밖에 사용해보지 않았지만 현재 구매가격으로는 충분히 살만하다고 생각한다. 지인들에게 추천을 해줄수 있을 정도. 소음은 화이트노이즈(치~~)하는 팬소음이 난다. 풀로드시에도 팬소음은 나쁘진 않지만 전투기소리가 아니라 치~~하는 소리가 나기때문에 주위 사람들이 듣기에는 스피커에서 잡음 들리는것 같다. 스피커에서 소리가 나면 팬소리는 안들린다. 성능은 디아블로3를 해봤다. 하는 게임이 디아3 스카이림 뿐이라... 디아3도 은근 애먹이는 게임이라고 생각한다. 560ti인 필자 데스크탑은 100도를 가볍게 찍기때\\n# 금요일 오후 4시 넘어서 주문했는데 토요일 오전에 도착했어요 배송속도는 확실합니다~^^컴퓨터 사양은 모든 면에서 뛰어납니다.다들 알아보시고 구매를 진행하시겠지만 제가 사용하는 사진편집,인터넷 작업, 간단한 게임?등에서 전혀 문제가 되지 않습니다.소음은 켜논지 모를 정도로 조용하네요제가 소음에는 좀 민감한편인데 선풍기 소리보다 조용해요발열도 하루에 10시간 '"
      ]
     },
     "execution_count": 6,
     "metadata": {},
     "output_type": "execute_result"
    }
   ],
   "source": [
    "f = codecs.open(\"data/reviews_소음.txt\", 'r', 'utf-8')\n",
    "f.read()[:500]"
   ]
  },
  {
   "cell_type": "markdown",
   "metadata": {},
   "source": [
    "## Loading Scored Data"
   ]
  },
  {
   "cell_type": "code",
   "execution_count": 7,
   "metadata": {},
   "outputs": [
    {
     "data": {
      "text/html": [
       "<div>\n",
       "<style scoped>\n",
       "    .dataframe tbody tr th:only-of-type {\n",
       "        vertical-align: middle;\n",
       "    }\n",
       "\n",
       "    .dataframe tbody tr th {\n",
       "        vertical-align: top;\n",
       "    }\n",
       "\n",
       "    .dataframe thead th {\n",
       "        text-align: right;\n",
       "    }\n",
       "</style>\n",
       "<table border=\"1\" class=\"dataframe\">\n",
       "  <thead>\n",
       "    <tr style=\"text-align: right;\">\n",
       "      <th></th>\n",
       "      <th>Review</th>\n",
       "      <th>Score</th>\n",
       "    </tr>\n",
       "  </thead>\n",
       "  <tbody>\n",
       "    <tr>\n",
       "      <th>0</th>\n",
       "      <td># 발열히 심한거 같은데 여름이라 그런가?..</td>\n",
       "      <td>2</td>\n",
       "    </tr>\n",
       "    <tr>\n",
       "      <th>1</th>\n",
       "      <td># 발열이좀 심한거 같아서 걱정이에요</td>\n",
       "      <td>2</td>\n",
       "    </tr>\n",
       "    <tr>\n",
       "      <th>2</th>\n",
       "      <td># 발열이심하더라구요</td>\n",
       "      <td>2</td>\n",
       "    </tr>\n",
       "    <tr>\n",
       "      <th>3</th>\n",
       "      <td># 발열이너무심한게 제일큰 단점인것 같고 그외에 불편한점은</td>\n",
       "      <td>2</td>\n",
       "    </tr>\n",
       "    <tr>\n",
       "      <th>4</th>\n",
       "      <td># 발열이...정말...심합니다</td>\n",
       "      <td>2</td>\n",
       "    </tr>\n",
       "  </tbody>\n",
       "</table>\n",
       "</div>"
      ],
      "text/plain": [
       "                             Review  Score\n",
       "0         # 발열히 심한거 같은데 여름이라 그런가?..      2\n",
       "1              # 발열이좀 심한거 같아서 걱정이에요      2\n",
       "2                       # 발열이심하더라구요      2\n",
       "3  # 발열이너무심한게 제일큰 단점인것 같고 그외에 불편한점은      2\n",
       "4                 # 발열이...정말...심합니다      2"
      ]
     },
     "execution_count": 7,
     "metadata": {},
     "output_type": "execute_result"
    }
   ],
   "source": [
    "# 키워드로 추출한 각 리뷰에 대해 score table 작성 필요...!!!\n",
    "\n",
    "filename = \"data/score_발열.xlsx\"\n",
    "sheet_name = \"Sheet1\"\n",
    "data = pd.read_excel(filename, sheet_name = sheet_name, header = 0)\n",
    "data.head()"
   ]
  },
  {
   "cell_type": "code",
   "execution_count": 8,
   "metadata": {},
   "outputs": [
    {
     "data": {
      "text/plain": [
       "1211"
      ]
     },
     "execution_count": 8,
     "metadata": {},
     "output_type": "execute_result"
    }
   ],
   "source": [
    "csv_data = [item.replace(\"#\", \"\").strip() for item in data['Review']]\n",
    "csv_label = data['Score']\n",
    "len(csv_data)"
   ]
  },
  {
   "cell_type": "code",
   "execution_count": 9,
   "metadata": {},
   "outputs": [
    {
     "data": {
      "text/plain": [
       "['발열히 심한거 같은데 여름이라 그런가?..',\n",
       " '발열이좀 심한거 같아서 걱정이에요',\n",
       " '발열이심하더라구요',\n",
       " '발열이너무심한게 제일큰 단점인것 같고 그외에 불편한점은',\n",
       " '발열이...정말...심합니다']"
      ]
     },
     "execution_count": 9,
     "metadata": {},
     "output_type": "execute_result"
    }
   ],
   "source": [
    "csv_data[:5]"
   ]
  },
  {
   "cell_type": "code",
   "execution_count": 10,
   "metadata": {},
   "outputs": [
    {
     "data": {
      "image/png": "[encoded data removed]",
      "text/plain": [
       "<Figure size 432x288 with 1 Axes>"
      ]
     },
     "metadata": {},
     "output_type": "display_data"
    }
   ],
   "source": [
    "scores = [sum(csv_label == 0), sum(csv_label == 1), sum(csv_label == 2)]\n",
    "plt.bar(range(len(scores)), scores, color=\"#ff5733\")\n",
    "\n",
    "plt.title(\"Average Laptop's Score of Heat\")\n",
    "plt.xlabel(\"Heat Score\")\n",
    "plt.ylabel(\"Reviews\")\n",
    "plt.show()"
   ]
  },
  {
   "cell_type": "markdown",
   "metadata": {},
   "source": [
    "## Bag of Words"
   ]
  },
  {
   "cell_type": "code",
   "execution_count": 11,
   "metadata": {},
   "outputs": [
    {
     "data": {
      "text/plain": [
       "1211"
      ]
     },
     "execution_count": 11,
     "metadata": {},
     "output_type": "execute_result"
    }
   ],
   "source": [
    "twitter = Okt()\n",
    "doc = []\n",
    "\n",
    "for sentence in csv_data :\n",
    "    results= []\n",
    "    tokens = twitter.pos(sentence, norm=True, stem=True)     # normalization, stemming 처리.\n",
    "        \n",
    "    for token in tokens:\n",
    "        if not token[1] in [\"Josa\", \"Eomi\", \"Punctuation\"]:  # 조사, 문장부호 등 제거.\n",
    "            results.append(token[0])\n",
    "            \n",
    "    doc.append(\" \".join(results).strip())\n",
    "    \n",
    "len(doc)"
   ]
  },
  {
   "cell_type": "code",
   "execution_count": 12,
   "metadata": {},
   "outputs": [
    {
     "data": {
      "text/plain": [
       "['발열 히 심하다 같다 여름 그 런가',\n",
       " '발열 이 좀 심하다 같다 걱정',\n",
       " '발열 심하다',\n",
       " '발열 이 너 무심하다 제일 크다 단점 것 같다 그 외 불편하다 점',\n",
       " '발열 정말 심하다']"
      ]
     },
     "execution_count": 12,
     "metadata": {},
     "output_type": "execute_result"
    }
   ],
   "source": [
    "doc[:5]"
   ]
  },
  {
   "cell_type": "code",
   "execution_count": 13,
   "metadata": {},
   "outputs": [
    {
     "data": {
      "text/plain": [
       "array([0, 0, 0, 0, 0, 0, 0, 0, 0, 0, 0, 0, 0, 1, 0, 0, 0, 0, 0, 0, 0, 0,\n",
       "       0, 0, 0, 0, 0, 0, 0, 0, 0, 0, 0, 0, 0, 0, 0, 0, 0, 0, 0, 0, 0, 0,\n",
       "       0, 0, 0, 0, 0, 0, 0, 0, 0, 0, 0, 0, 0, 0, 0, 0, 0, 0, 0, 0, 0, 0,\n",
       "       0, 0, 0, 0, 0, 0, 0, 0, 0, 0, 0, 0, 0, 0, 0, 0, 0, 0, 0, 0, 0, 0,\n",
       "       0, 0, 0, 0, 0, 0, 0, 0, 0, 0, 0, 0, 0, 0, 0, 0, 0, 0, 0, 0, 0, 0,\n",
       "       0, 0, 1, 0, 0, 0, 0, 0, 0, 0, 0, 0, 0, 0, 0, 0, 0, 0, 0, 0, 0, 0,\n",
       "       0, 0, 0, 0, 0, 0, 0, 0, 0, 0, 0, 0, 0, 0, 0, 0, 0, 0, 0, 0, 0, 0,\n",
       "       0, 0, 1, 0, 0, 0, 0, 0, 0, 0, 0, 0, 0, 0, 0, 0, 0, 0, 0, 0, 0, 0,\n",
       "       0, 0, 0, 0, 0, 0, 0, 0, 0, 0, 0, 1, 0, 0, 0, 0, 0, 0, 0, 0, 0, 0,\n",
       "       0, 0, 0, 0, 0, 0, 0, 0, 0, 0, 0, 0, 0, 0, 0, 0, 0, 0, 0, 0, 0, 0,\n",
       "       0, 0, 0, 0, 0, 0, 0, 0, 0, 0, 0, 0, 0, 0, 0, 0, 0, 0, 0, 0, 0, 0,\n",
       "       0, 0, 0, 0, 0, 0, 0, 0, 0, 0, 0, 0, 0, 0, 0, 0, 0, 0, 0, 0, 0, 0,\n",
       "       0, 0, 0, 0, 0, 0, 0, 0, 0, 0, 0, 0, 0, 0, 0, 0, 0, 0, 0, 0, 0, 0,\n",
       "       0, 0, 0, 0, 0, 0, 0, 0, 0], dtype=int64)"
      ]
     },
     "execution_count": 13,
     "metadata": {},
     "output_type": "execute_result"
    }
   ],
   "source": [
    "# CountVectorizer\n",
    "cv = CountVectorizer(ngram_range=(1,1), min_df = 3)\n",
    "\n",
    "data = cv.fit_transform(doc).toarray()\n",
    "label = csv_label.values\n",
    "\n",
    "data[0]  # bag of words = one-hot encoding"
   ]
  },
  {
   "cell_type": "code",
   "execution_count": 14,
   "metadata": {
    "scrolled": false
   },
   "outputs": [
    {
     "data": {
      "text/plain": [
       "{'100': 0,\n",
       " '50': 1,\n",
       " '70': 2,\n",
       " 'as': 3,\n",
       " 'cpu': 4,\n",
       " 'ips': 5,\n",
       " 'ssd': 6,\n",
       " 'ㅜㅜ': 7,\n",
       " '가격': 8,\n",
       " '가다': 9,\n",
       " '가볍다': 10,\n",
       " '가성': 11,\n",
       " '감다': 12,\n",
       " '같다': 13,\n",
       " '개선': 14,\n",
       " '거의': 15,\n",
       " '걱정': 16,\n",
       " '걸리다': 17,\n",
       " '게임': 18,\n",
       " '겨울': 19,\n",
       " '고민': 20,\n",
       " '관리': 21,\n",
       " '괜찮다': 22,\n",
       " '굉장하다': 23,\n",
       " '구매': 24,\n",
       " '구성': 25,\n",
       " '그냥': 26,\n",
       " '그래도': 27,\n",
       " '그래픽': 28,\n",
       " '그램': 29,\n",
       " '그렇게': 30,\n",
       " '그렇다': 31,\n",
       " '그리다': 32,\n",
       " '기능': 33,\n",
       " '기다': 34,\n",
       " '기본': 35,\n",
       " '깔끔하다': 36,\n",
       " '끊기다': 37,\n",
       " '나다': 38,\n",
       " '나쁘다': 39,\n",
       " '나오다': 40,\n",
       " '낮다': 41,\n",
       " '내다': 42,\n",
       " '너무': 43,\n",
       " '노트': 44,\n",
       " '노트북': 45,\n",
       " '놀라다': 46,\n",
       " '높다': 47,\n",
       " '느껴지다': 48,\n",
       " '느끼다': 49,\n",
       " '느낌': 50,\n",
       " '느리다': 51,\n",
       " '늘다': 52,\n",
       " '능력': 53,\n",
       " '다니다': 54,\n",
       " '다른': 55,\n",
       " '다소': 56,\n",
       " '단점': 57,\n",
       " '대다': 58,\n",
       " '대단하다': 59,\n",
       " '대비': 60,\n",
       " '던지다': 61,\n",
       " '데스크탑': 62,\n",
       " '돌다': 63,\n",
       " '돌리다': 64,\n",
       " '돌아가다': 65,\n",
       " '돼다': 66,\n",
       " '되다': 67,\n",
       " '되어다': 68,\n",
       " '두다': 69,\n",
       " '뒤틀리다': 70,\n",
       " '들다': 71,\n",
       " '듭니': 72,\n",
       " '등등': 73,\n",
       " '디자인': 74,\n",
       " '따다': 75,\n",
       " '따뜻하다': 76,\n",
       " '따르다': 77,\n",
       " '딱하다': 78,\n",
       " '때문': 79,\n",
       " '떨어지다': 80,\n",
       " '또한': 81,\n",
       " '뛰어나다': 82,\n",
       " '뜨겁다': 83,\n",
       " '뜨다': 84,\n",
       " '라면': 85,\n",
       " '레노버': 86,\n",
       " '마감': 87,\n",
       " '마음': 88,\n",
       " '만족': 89,\n",
       " '만족스럽다': 90,\n",
       " '만족하다': 91,\n",
       " '많다': 92,\n",
       " '많이': 93,\n",
       " '매우': 94,\n",
       " '메탈': 95,\n",
       " '모니터': 96,\n",
       " '모델': 97,\n",
       " '모두': 98,\n",
       " '모든': 99,\n",
       " '모르다': 100,\n",
       " '무겁다': 101,\n",
       " '무게': 102,\n",
       " '무리': 103,\n",
       " '무심하다': 104,\n",
       " '무엇': 105,\n",
       " '문서': 106,\n",
       " '문제': 107,\n",
       " '물론': 108,\n",
       " '받다': 109,\n",
       " '받침': 110,\n",
       " '발생': 111,\n",
       " '발열': 112,\n",
       " '밧데리': 113,\n",
       " '배그': 114,\n",
       " '배송': 115,\n",
       " '배터리': 116,\n",
       " '별로': 117,\n",
       " '보다': 118,\n",
       " '보드': 119,\n",
       " '보이다': 120,\n",
       " '보통': 121,\n",
       " '부분': 122,\n",
       " '부팅': 123,\n",
       " '불량': 124,\n",
       " '불편하다': 125,\n",
       " '비다': 126,\n",
       " '비추다': 127,\n",
       " '빠르다': 128,\n",
       " '빠릿빠릿': 129,\n",
       " '빠지다': 130,\n",
       " '빼다': 131,\n",
       " '사다': 132,\n",
       " '사양': 133,\n",
       " '사용': 134,\n",
       " '사은': 135,\n",
       " '살짝': 136,\n",
       " '삼성': 137,\n",
       " '상당하다': 138,\n",
       " '상태': 139,\n",
       " '생각': 140,\n",
       " '생기다': 141,\n",
       " '서비스': 142,\n",
       " '선택': 143,\n",
       " '설치': 144,\n",
       " '성능': 145,\n",
       " '센터': 146,\n",
       " '소리': 147,\n",
       " '소음': 148,\n",
       " '속도': 149,\n",
       " '수가': 150,\n",
       " '수준': 151,\n",
       " '시간': 152,\n",
       " '신경': 153,\n",
       " '신분': 154,\n",
       " '심다': 155,\n",
       " '심하다': 156,\n",
       " '심해': 157,\n",
       " '심해지다': 158,\n",
       " '써다': 159,\n",
       " '쓰다': 160,\n",
       " '쓰이다': 161,\n",
       " '쓸다': 162,\n",
       " '아니다': 163,\n",
       " '아쉽다': 164,\n",
       " '아예': 165,\n",
       " '아주': 166,\n",
       " '아직': 167,\n",
       " '안나': 168,\n",
       " '안되다': 169,\n",
       " '안심': 170,\n",
       " '않다': 171,\n",
       " '알다': 172,\n",
       " '액정': 173,\n",
       " '야하다': 174,\n",
       " '약간': 175,\n",
       " '약하다': 176,\n",
       " '얇다': 177,\n",
       " '양호': 178,\n",
       " '얘기': 179,\n",
       " '어느': 180,\n",
       " '어떻다': 181,\n",
       " '어쩔': 182,\n",
       " '엄청': 183,\n",
       " '엄청나다': 184,\n",
       " '없다': 185,\n",
       " '없이': 186,\n",
       " '여름': 187,\n",
       " '역시': 188,\n",
       " '연결': 189,\n",
       " '열량': 190,\n",
       " '예쁘다': 191,\n",
       " '오다': 192,\n",
       " '오래': 193,\n",
       " '오래되다': 194,\n",
       " '온도': 195,\n",
       " '완벽하다': 196,\n",
       " '완전': 197,\n",
       " '외관': 198,\n",
       " '왼쪽': 199,\n",
       " '용량': 200,\n",
       " '우수하다': 201,\n",
       " '원래': 202,\n",
       " '윈도우': 203,\n",
       " '이다': 204,\n",
       " '이렇게': 205,\n",
       " '이렇다': 206,\n",
       " '이면': 207,\n",
       " '이쁘다': 208,\n",
       " '이상': 209,\n",
       " '이슈': 210,\n",
       " '이전': 211,\n",
       " '이정': 212,\n",
       " '이제': 213,\n",
       " '인터넷': 214,\n",
       " '인하다': 215,\n",
       " '일어나서': 216,\n",
       " '일이': 217,\n",
       " '있다': 218,\n",
       " '자다': 219,\n",
       " '자주': 220,\n",
       " '자판': 221,\n",
       " '작다': 222,\n",
       " '작업': 223,\n",
       " '잡고': 224,\n",
       " '잡다': 225,\n",
       " '잡지': 226,\n",
       " '잡히다': 227,\n",
       " '장시간': 228,\n",
       " '장점': 229,\n",
       " '저렴하다': 230,\n",
       " '적다': 231,\n",
       " '적당하다': 232,\n",
       " '전혀': 233,\n",
       " '절대': 234,\n",
       " '점수': 235,\n",
       " '정도': 236,\n",
       " '정말': 237,\n",
       " '제어': 238,\n",
       " '제외': 239,\n",
       " '제품': 240,\n",
       " '조금': 241,\n",
       " '조용하다': 242,\n",
       " '조절': 243,\n",
       " '좋다': 244,\n",
       " '주다': 245,\n",
       " '준수': 246,\n",
       " '증상': 247,\n",
       " '지금': 248,\n",
       " '지다': 249,\n",
       " '진짜': 250,\n",
       " '짧다': 251,\n",
       " '차다': 252,\n",
       " '차이': 253,\n",
       " '처리': 254,\n",
       " '처음': 255,\n",
       " '최고': 256,\n",
       " '추천': 257,\n",
       " '충전': 258,\n",
       " '치다': 259,\n",
       " '카드': 260,\n",
       " '컴퓨터': 261,\n",
       " '켜다': 262,\n",
       " '쿨러': 263,\n",
       " '쿨링': 264,\n",
       " '크게': 265,\n",
       " '크다': 266,\n",
       " '특히': 267,\n",
       " '패널': 268,\n",
       " '패드': 269,\n",
       " '펴다': 270,\n",
       " '편이': 271,\n",
       " '편입': 272,\n",
       " '편하다': 273,\n",
       " '평소': 274,\n",
       " '프로그램': 275,\n",
       " '필요': 276,\n",
       " '하나': 277,\n",
       " '하니': 278,\n",
       " '하다': 279,\n",
       " '하드': 280,\n",
       " '하지만': 281,\n",
       " '한성': 282,\n",
       " '한편': 283,\n",
       " '해보다': 284,\n",
       " '해소': 285,\n",
       " '현상': 286,\n",
       " '현재': 287,\n",
       " '화면': 288,\n",
       " '화상': 289,\n",
       " '화이트': 290,\n",
       " '화질': 291,\n",
       " '확실하다': 292,\n",
       " '훨씬': 293,\n",
       " '휴대': 294}"
      ]
     },
     "execution_count": 14,
     "metadata": {},
     "output_type": "execute_result"
    }
   ],
   "source": [
    "cv.vocabulary_"
   ]
  },
  {
   "cell_type": "markdown",
   "metadata": {},
   "source": [
    "## Train/Test Spilt"
   ]
  },
  {
   "cell_type": "code",
   "execution_count": 15,
   "metadata": {},
   "outputs": [
    {
     "data": {
      "text/plain": [
       "295"
      ]
     },
     "execution_count": 15,
     "metadata": {},
     "output_type": "execute_result"
    }
   ],
   "source": [
    "dim = len(cv.vocabulary_)  # 벡터의 수\n",
    "dim"
   ]
  },
  {
   "cell_type": "code",
   "execution_count": 16,
   "metadata": {},
   "outputs": [
    {
     "name": "stdout",
     "output_type": "stream",
     "text": [
      "908\n",
      "303\n"
     ]
    }
   ],
   "source": [
    "train_data, test_data, train_label, test_label = train_test_split(data, label, stratify = label)\n",
    "\n",
    "print(len(train_data))\n",
    "print(len(test_data))"
   ]
  },
  {
   "cell_type": "code",
   "execution_count": 17,
   "metadata": {},
   "outputs": [
    {
     "data": {
      "text/plain": [
       "(torch.Size([908]), torch.Size([908, 295]))"
      ]
     },
     "execution_count": 17,
     "metadata": {},
     "output_type": "execute_result"
    }
   ],
   "source": [
    "x = torch.from_numpy(train_data).type(torch.FloatTensor)\n",
    "y = torch.from_numpy(train_label).type(torch.LongTensor)\n",
    "\n",
    "y.size(), x.size()"
   ]
  },
  {
   "cell_type": "code",
   "execution_count": 18,
   "metadata": {
    "collapsed": true
   },
   "outputs": [],
   "source": [
    "train_data = data_utils.TensorDataset(x, y)\n",
    "\n",
    "batch_size = 10\n",
    "\n",
    "train_loader = torch.utils.data.DataLoader(dataset=train_data,\n",
    "                                           batch_size=batch_size,\n",
    "                                           shuffle=True,\n",
    "                                           num_workers=1,\n",
    "                                           drop_last = True)"
   ]
  },
  {
   "cell_type": "markdown",
   "metadata": {},
   "source": [
    "## Define Model for Sentiment Analysis"
   ]
  },
  {
   "cell_type": "code",
   "execution_count": 19,
   "metadata": {
    "collapsed": true
   },
   "outputs": [],
   "source": [
    "# DNN\n",
    "linear1 = torch.nn.Linear(dim, 200, bias = True)\n",
    "relu    = torch.nn.ReLU()\n",
    "linear2 = torch.nn.Linear(200, 3, bias = True)\n",
    "\n",
    "model = torch.nn.Sequential(linear1, relu, linear2)"
   ]
  },
  {
   "cell_type": "code",
   "execution_count": 20,
   "metadata": {
    "collapsed": true
   },
   "outputs": [],
   "source": [
    "loss = torch.nn.CrossEntropyLoss()\n",
    "optimizer = torch.optim.Adam(model.parameters(), lr=0.001)"
   ]
  },
  {
   "cell_type": "code",
   "execution_count": 21,
   "metadata": {
    "collapsed": true
   },
   "outputs": [],
   "source": [
    "num_epochs = 10"
   ]
  },
  {
   "cell_type": "code",
   "execution_count": 22,
   "metadata": {
    "scrolled": false
   },
   "outputs": [
    {
     "name": "stdout",
     "output_type": "stream",
     "text": [
      "Epoch [1/10], lter [90/90] Loss: 0.6076\n",
      "Epoch [2/10], lter [90/90] Loss: 0.5681\n",
      "Epoch [3/10], lter [90/90] Loss: 0.6890\n",
      "Epoch [4/10], lter [90/90] Loss: 0.4091\n",
      "Epoch [5/10], lter [90/90] Loss: 0.2973\n",
      "Epoch [6/10], lter [90/90] Loss: 0.1957\n",
      "Epoch [7/10], lter [90/90] Loss: 0.0384\n",
      "Epoch [8/10], lter [90/90] Loss: 0.0651\n",
      "Epoch [9/10], lter [90/90] Loss: 0.2338\n",
      "Epoch [10/10], lter [90/90] Loss: 0.1898\n",
      "Learning Finished!\n"
     ]
    }
   ],
   "source": [
    "for epoch in range(num_epochs):\n",
    "    avg_cost = 0\n",
    "    total_batch = len(train_data) // batch_size\n",
    "    \n",
    "    for i, (batch_text, batch_labels) in enumerate(train_loader):\n",
    "        \n",
    "        X = batch_text.view(-1, dim)\n",
    "        Y = batch_labels\n",
    "        \n",
    "        pre = model(X)\n",
    "        cost = loss(pre, Y)\n",
    "        \n",
    "        optimizer.zero_grad()\n",
    "        cost.backward()\n",
    "        optimizer.step()\n",
    "        \n",
    "        if (i+1) == total_batch:\n",
    "            print('Epoch [%d/%d], lter [%d/%d] Loss: %.4f'%(epoch+1, num_epochs, i+1, total_batch, cost.item()))\n",
    "            \n",
    "print(\"Learning Finished!\")"
   ]
  },
  {
   "cell_type": "markdown",
   "metadata": {},
   "source": [
    "## Test Model"
   ]
  },
  {
   "cell_type": "code",
   "execution_count": 23,
   "metadata": {
    "collapsed": true
   },
   "outputs": [],
   "source": [
    "x_test = torch.from_numpy(test_data).type(torch.FloatTensor)\n",
    "y_test = torch.from_numpy(test_label).type(torch.LongTensor)\n",
    "\n",
    "test_data = data_utils.TensorDataset(x, y)\n",
    "\n",
    "test_loader = torch.utils.data.DataLoader(dataset=test_data,\n",
    "                                          batch_size=1,\n",
    "                                          shuffle=True)"
   ]
  },
  {
   "cell_type": "code",
   "execution_count": 24,
   "metadata": {},
   "outputs": [
    {
     "name": "stdout",
     "output_type": "stream",
     "text": [
      "correct : 879\n",
      "total   : 908\n",
      "Accuracy of test images: 96.806167\n"
     ]
    }
   ],
   "source": [
    "model.eval()\n",
    "\n",
    "correct = 0\n",
    "total = 0\n",
    "\n",
    "for text, labels in test_loader:\n",
    "    \n",
    "    text = text.view(-1, dim)\n",
    "    outputs = model(text)\n",
    "    \n",
    "    _, pred = torch.max(outputs.data, 1)\n",
    "    total += 1\n",
    "    correct += (pred == labels).sum()\n",
    "    \n",
    "correct = correct.cpu().numpy()    \n",
    "print('correct :', correct)\n",
    "print('total   :', total)\n",
    "print('Accuracy of test images: %f' % (100 * correct / total))"
   ]
  },
  {
   "cell_type": "markdown",
   "metadata": {},
   "source": [
    "## 17.8 Test Sentence"
   ]
  },
  {
   "cell_type": "code",
   "execution_count": 25,
   "metadata": {
    "collapsed": true
   },
   "outputs": [],
   "source": [
    "def IsItHot(string) :\n",
    "    \n",
    "    results= []\n",
    "    tokens = twitter.pos(string, norm=True, stem=True)\n",
    "\n",
    "    for token in tokens:\n",
    "        if not token[1] in [\"Josa\", \"Eomi\", \"Punctuation\"]:\n",
    "            results.append(token[0])\n",
    "   \n",
    "    sample = cv.transform([\" \".join(results).strip()]).toarray()\n",
    "    sample = torch.from_numpy(sample).type(torch.FloatTensor)\n",
    "    res = torch.max(model(sample).data, 1)[1].numpy()\n",
    "    \n",
    "    if res == 0 : \n",
    "        print(\"분석 결과 : 발열 거의 없음\")\n",
    "    elif res == 1 :\n",
    "        print(\"분석 결과 : 발열 조금 있음\")\n",
    "    else :\n",
    "        print(\"분석 결과 : 발열 매우 심함\")"
   ]
  },
  {
   "cell_type": "code",
   "execution_count": 26,
   "metadata": {},
   "outputs": [
    {
     "name": "stdout",
     "output_type": "stream",
     "text": [
      "분석 결과 : 발열 매우 심함\n"
     ]
    }
   ],
   "source": [
    "IsItHot(\"노트북이 너무 뜨거워요\")"
   ]
  },
  {
   "cell_type": "code",
   "execution_count": 27,
   "metadata": {
    "scrolled": true
   },
   "outputs": [
    {
     "name": "stdout",
     "output_type": "stream",
     "text": [
      "분석 결과 : 발열 거의 없음\n"
     ]
    }
   ],
   "source": [
    "IsItHot(\"발열을 잘 잡았네요\")"
   ]
  },
  {
   "cell_type": "markdown",
   "metadata": {},
   "source": [
    "## TF-IDF Vectorizer"
   ]
  },
  {
   "cell_type": "code",
   "execution_count": 28,
   "metadata": {},
   "outputs": [
    {
     "data": {
      "text/plain": [
       "array([0., 0., 0., ..., 0., 0., 0.])"
      ]
     },
     "execution_count": 28,
     "metadata": {},
     "output_type": "execute_result"
    }
   ],
   "source": [
    "# TF-IDF Vectorizer\n",
    "tfidv = TfidfVectorizer().fit(doc)\n",
    "data = tfidv.transform(doc).toarray()\n",
    "\n",
    "data[0]\n",
    "\n",
    "# data = pd.DataFrame(data)\n",
    "# data = (data - data.mean()) / (data.max() - data.min() + 1)"
   ]
  },
  {
   "cell_type": "code",
   "execution_count": 29,
   "metadata": {},
   "outputs": [
    {
     "data": {
      "text/plain": [
       "(torch.Size([908]), torch.Size([908, 1075]))"
      ]
     },
     "execution_count": 29,
     "metadata": {},
     "output_type": "execute_result"
    }
   ],
   "source": [
    "train_data, test_data, train_label, test_label = train_test_split(data, label, stratify = label)\n",
    "\n",
    "x = torch.from_numpy(train_data).type(torch.FloatTensor)\n",
    "y = torch.from_numpy(train_label).type(torch.LongTensor)\n",
    "\n",
    "y.size() , x.size()"
   ]
  },
  {
   "cell_type": "code",
   "execution_count": 30,
   "metadata": {
    "collapsed": true
   },
   "outputs": [],
   "source": [
    "train_data = data_utils.TensorDataset(x, y)\n",
    "\n",
    "batch_size = 10\n",
    "\n",
    "train_loader = torch.utils.data.DataLoader(dataset=train_data,\n",
    "                                           batch_size=batch_size,\n",
    "                                           shuffle=True,\n",
    "                                           num_workers=1,\n",
    "                                           drop_last = True)"
   ]
  },
  {
   "cell_type": "code",
   "execution_count": 31,
   "metadata": {},
   "outputs": [
    {
     "data": {
      "text/plain": [
       "1075"
      ]
     },
     "execution_count": 31,
     "metadata": {},
     "output_type": "execute_result"
    }
   ],
   "source": [
    "dim = (x.size()[1])\n",
    "dim"
   ]
  },
  {
   "cell_type": "code",
   "execution_count": 32,
   "metadata": {
    "collapsed": true
   },
   "outputs": [],
   "source": [
    "linear1 = torch.nn.Linear(dim, 200, bias = True)\n",
    "linear2 = torch.nn.Linear(200, 3, bias = True)\n",
    "relu = torch.nn.ReLU()\n",
    "\n",
    "model = torch.nn.Sequential(linear1, relu, linear2)\n",
    "\n",
    "loss = torch.nn.CrossEntropyLoss()\n",
    "optimizer = torch.optim.Adam(model.parameters(), lr=0.001)"
   ]
  },
  {
   "cell_type": "code",
   "execution_count": 33,
   "metadata": {},
   "outputs": [
    {
     "name": "stdout",
     "output_type": "stream",
     "text": [
      "Epoch [1/10], lter [90/90] Loss: 0.7820\n",
      "Epoch [2/10], lter [90/90] Loss: 0.3521\n",
      "Epoch [3/10], lter [90/90] Loss: 0.4585\n",
      "Epoch [4/10], lter [90/90] Loss: 0.1185\n",
      "Epoch [5/10], lter [90/90] Loss: 0.3626\n",
      "Epoch [6/10], lter [90/90] Loss: 0.0844\n",
      "Epoch [7/10], lter [90/90] Loss: 0.1326\n",
      "Epoch [8/10], lter [90/90] Loss: 0.1075\n",
      "Epoch [9/10], lter [90/90] Loss: 0.0883\n",
      "Epoch [10/10], lter [90/90] Loss: 0.0313\n",
      "Learning Finished!\n"
     ]
    }
   ],
   "source": [
    "for epoch in range(num_epochs):\n",
    "    avg_cost = 0\n",
    "    total_batch = len(train_data) // batch_size\n",
    "    \n",
    "    for i, (batch_text, batch_labels) in enumerate(train_loader):\n",
    "        \n",
    "        X = batch_text.view(-1, dim)\n",
    "        Y = batch_labels\n",
    "        \n",
    "        pre = model(X)\n",
    "        cost = loss(pre, Y)\n",
    "        \n",
    "        optimizer.zero_grad()\n",
    "        cost.backward()\n",
    "        optimizer.step()\n",
    "        \n",
    "        if (i+1) == total_batch:\n",
    "            print('Epoch [%d/%d], lter [%d/%d] Loss: %.4f'%(epoch+1, num_epochs, i+1, total_batch, cost.item()))\n",
    "    \n",
    "print(\"Learning Finished!\")"
   ]
  },
  {
   "cell_type": "code",
   "execution_count": 34,
   "metadata": {
    "collapsed": true
   },
   "outputs": [],
   "source": [
    "x_test = torch.from_numpy(test_data).type(torch.FloatTensor)\n",
    "y_test = torch.from_numpy(test_label).type(torch.LongTensor)\n",
    "\n",
    "test_data = data_utils.TensorDataset(x, y)\n",
    "\n",
    "test_loader = torch.utils.data.DataLoader(dataset=test_data,\n",
    "                                          batch_size=1,\n",
    "                                          shuffle=True)"
   ]
  },
  {
   "cell_type": "code",
   "execution_count": 35,
   "metadata": {},
   "outputs": [
    {
     "name": "stdout",
     "output_type": "stream",
     "text": [
      "correct : 900\n",
      "total   : 908\n",
      "Accuracy of test images: 99.118943\n"
     ]
    }
   ],
   "source": [
    "model.eval()\n",
    "\n",
    "correct = 0\n",
    "total = 0\n",
    "\n",
    "for text, labels in test_loader:\n",
    "    \n",
    "    text = text.view(-1, dim)\n",
    "    outputs = model(text)\n",
    "    \n",
    "    _, pred = torch.max(outputs.data, 1)\n",
    "    total += 1\n",
    "    correct += (pred == labels).sum()\n",
    "    \n",
    "correct = correct.cpu().numpy()    \n",
    "print('correct :', correct)\n",
    "print('total   :', total)\n",
    "print('Accuracy of test images: %f' % (100 * correct / total))"
   ]
  }
 ],
 "metadata": {
  "kernelspec": {
   "display_name": "Python 3",
   "language": "python",
   "name": "python3"
  },
  "language_info": {
   "codemirror_mode": {
    "name": "ipython",
    "version": 3
   },
   "file_extension": ".py",
   "mimetype": "text/x-python",
   "name": "python",
   "nbconvert_exporter": "python",
   "pygments_lexer": "ipython3",
   "version": "3.6.6"
  }
 },
 "nbformat": 4,
 "nbformat_minor": 2
}
