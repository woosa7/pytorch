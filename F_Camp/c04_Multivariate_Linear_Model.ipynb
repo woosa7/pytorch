{
 "cells": [
  {
   "cell_type": "markdown",
   "metadata": {},
   "source": [
    "# Lec 04. Multivariate Linear Mode"
   ]
  },
  {
   "cell_type": "code",
   "execution_count": 1,
   "metadata": {
    "collapsed": true
   },
   "outputs": [],
   "source": [
    "import pandas as pd\n",
    "import torch\n",
    "import torch.nn as nn\n",
    "import torch.optim as optim\n",
    "from torch.autograd import Variable"
   ]
  },
  {
   "cell_type": "code",
   "execution_count": 2,
   "metadata": {
    "collapsed": true
   },
   "outputs": [],
   "source": [
    "import matplotlib.pyplot as plt\n",
    "%matplotlib inline"
   ]
  },
  {
   "cell_type": "markdown",
   "metadata": {},
   "source": [
    "## Preparation Data - Solubility Data"
   ]
  },
  {
   "cell_type": "markdown",
   "metadata": {},
   "source": [
    "Tetko et al. (2001) and Huuskonen (2000) investigated a set of compounds with corresponding experimental solubility values using complex sets of descriptors. They used linear regression and neural network models to estimate the relationship between chemical structure and solubility. For our analyses, we will use 1267 compounds and a set of more understandable descriptors that fall into one of three groups: 208 binary \"fingerprints\" that indicate the presence or absence of a particular chemical sub-structure, 16 count descriptors (such as the number of bonds or the number of Bromine atoms) and 4 continuous descriptors (such as molecular weight or surface area).\n",
    "\n",
    "1267 observation (951+316)\n",
    "\n",
    "228 mixed variables\n",
    "\n",
    "https://www.rdocumentation.org/packages/AppliedPredictiveModeling"
   ]
  },
  {
   "cell_type": "code",
   "execution_count": 3,
   "metadata": {},
   "outputs": [
    {
     "name": "stdout",
     "output_type": "stream",
     "text": [
      "Data Loaded\n"
     ]
    }
   ],
   "source": [
    "data = {}\n",
    "f_list = [\"solTestX\", \"solTestY\", \"solTrainX\", \"solTrainY\"]\n",
    "\n",
    "for i in f_list :\n",
    "    data[i] = pd.read_csv(\"data/\"+i+\".csv\", index_col=0)\n",
    "    \n",
    "print(\"Data Loaded\")"
   ]
  },
  {
   "cell_type": "code",
   "execution_count": 4,
   "metadata": {},
   "outputs": [
    {
     "name": "stdout",
     "output_type": "stream",
     "text": [
      "train data  :  (951, 228)\n",
      "train label :  (951, 1)\n",
      "test data   :  (316, 228)\n",
      "test label  :  (316, 1)\n"
     ]
    }
   ],
   "source": [
    "train_data = data[\"solTrainX\"]\n",
    "train_label = data[\"solTrainY\"]\n",
    "\n",
    "test_data = data[\"solTestX\"]\n",
    "test_label = data[\"solTestY\"]\n",
    "\n",
    "print(\"train data  : \", train_data.shape)\n",
    "print(\"train label : \", train_label.shape)\n",
    "\n",
    "print(\"test data   : \", test_data.shape)\n",
    "print(\"test label  : \", test_label.shape)"
   ]
  },
  {
   "cell_type": "code",
   "execution_count": 5,
   "metadata": {},
   "outputs": [
    {
     "name": "stdout",
     "output_type": "stream",
     "text": [
      "Index(['FP001', 'FP002', 'FP003', 'FP004', 'FP005', 'FP006', 'FP007', 'FP008',\n",
      "       'FP009', 'FP010',\n",
      "       ...\n",
      "       'NumCarbon', 'NumNitrogen', 'NumOxygen', 'NumSulfer', 'NumChlorine',\n",
      "       'NumHalogen', 'NumRings', 'HydrophilicFactor', 'SurfaceArea1',\n",
      "       'SurfaceArea2'],\n",
      "      dtype='object', length=228)\n"
     ]
    }
   ],
   "source": [
    "arr = train_data.columns\n",
    "print(arr)"
   ]
  },
  {
   "cell_type": "code",
   "execution_count": 6,
   "metadata": {},
   "outputs": [
    {
     "data": {
      "text/html": [
       "<div>\n",
       "<style scoped>\n",
       "    .dataframe tbody tr th:only-of-type {\n",
       "        vertical-align: middle;\n",
       "    }\n",
       "\n",
       "    .dataframe tbody tr th {\n",
       "        vertical-align: top;\n",
       "    }\n",
       "\n",
       "    .dataframe thead th {\n",
       "        text-align: right;\n",
       "    }\n",
       "</style>\n",
       "<table border=\"1\" class=\"dataframe\">\n",
       "  <thead>\n",
       "    <tr style=\"text-align: right;\">\n",
       "      <th></th>\n",
       "      <th>FP001</th>\n",
       "      <th>FP002</th>\n",
       "      <th>FP003</th>\n",
       "      <th>FP004</th>\n",
       "      <th>FP005</th>\n",
       "      <th>FP006</th>\n",
       "      <th>FP007</th>\n",
       "      <th>FP008</th>\n",
       "      <th>FP009</th>\n",
       "      <th>FP010</th>\n",
       "      <th>...</th>\n",
       "      <th>NumCarbon</th>\n",
       "      <th>NumNitrogen</th>\n",
       "      <th>NumOxygen</th>\n",
       "      <th>NumSulfer</th>\n",
       "      <th>NumChlorine</th>\n",
       "      <th>NumHalogen</th>\n",
       "      <th>NumRings</th>\n",
       "      <th>HydrophilicFactor</th>\n",
       "      <th>SurfaceArea1</th>\n",
       "      <th>SurfaceArea2</th>\n",
       "    </tr>\n",
       "  </thead>\n",
       "  <tbody>\n",
       "    <tr>\n",
       "      <th>661</th>\n",
       "      <td>0</td>\n",
       "      <td>1</td>\n",
       "      <td>0</td>\n",
       "      <td>0</td>\n",
       "      <td>1</td>\n",
       "      <td>0</td>\n",
       "      <td>0</td>\n",
       "      <td>1</td>\n",
       "      <td>0</td>\n",
       "      <td>0</td>\n",
       "      <td>...</td>\n",
       "      <td>4.177811</td>\n",
       "      <td>0.584815</td>\n",
       "      <td>0.000000</td>\n",
       "      <td>0.000</td>\n",
       "      <td>0.000</td>\n",
       "      <td>0.000</td>\n",
       "      <td>1.386294</td>\n",
       "      <td>-1.606542</td>\n",
       "      <td>6.812456</td>\n",
       "      <td>6.812456</td>\n",
       "    </tr>\n",
       "    <tr>\n",
       "      <th>662</th>\n",
       "      <td>0</td>\n",
       "      <td>1</td>\n",
       "      <td>0</td>\n",
       "      <td>1</td>\n",
       "      <td>1</td>\n",
       "      <td>1</td>\n",
       "      <td>1</td>\n",
       "      <td>1</td>\n",
       "      <td>0</td>\n",
       "      <td>0</td>\n",
       "      <td>...</td>\n",
       "      <td>5.092358</td>\n",
       "      <td>0.642355</td>\n",
       "      <td>0.693147</td>\n",
       "      <td>0.375</td>\n",
       "      <td>0.000</td>\n",
       "      <td>0.000</td>\n",
       "      <td>1.609438</td>\n",
       "      <td>-0.441330</td>\n",
       "      <td>9.753834</td>\n",
       "      <td>12.029604</td>\n",
       "    </tr>\n",
       "    <tr>\n",
       "      <th>663</th>\n",
       "      <td>1</td>\n",
       "      <td>1</td>\n",
       "      <td>1</td>\n",
       "      <td>1</td>\n",
       "      <td>1</td>\n",
       "      <td>0</td>\n",
       "      <td>0</td>\n",
       "      <td>1</td>\n",
       "      <td>0</td>\n",
       "      <td>1</td>\n",
       "      <td>...</td>\n",
       "      <td>4.023944</td>\n",
       "      <td>0.000000</td>\n",
       "      <td>1.098612</td>\n",
       "      <td>0.000</td>\n",
       "      <td>0.000</td>\n",
       "      <td>0.000</td>\n",
       "      <td>0.693147</td>\n",
       "      <td>-0.384859</td>\n",
       "      <td>8.245324</td>\n",
       "      <td>8.245324</td>\n",
       "    </tr>\n",
       "    <tr>\n",
       "      <th>665</th>\n",
       "      <td>0</td>\n",
       "      <td>0</td>\n",
       "      <td>1</td>\n",
       "      <td>0</td>\n",
       "      <td>0</td>\n",
       "      <td>0</td>\n",
       "      <td>1</td>\n",
       "      <td>0</td>\n",
       "      <td>0</td>\n",
       "      <td>0</td>\n",
       "      <td>...</td>\n",
       "      <td>3.510455</td>\n",
       "      <td>0.000000</td>\n",
       "      <td>0.000000</td>\n",
       "      <td>0.000</td>\n",
       "      <td>0.000</td>\n",
       "      <td>0.000</td>\n",
       "      <td>0.693147</td>\n",
       "      <td>-2.373472</td>\n",
       "      <td>0.000000</td>\n",
       "      <td>0.000000</td>\n",
       "    </tr>\n",
       "    <tr>\n",
       "      <th>668</th>\n",
       "      <td>0</td>\n",
       "      <td>0</td>\n",
       "      <td>1</td>\n",
       "      <td>1</td>\n",
       "      <td>1</td>\n",
       "      <td>1</td>\n",
       "      <td>0</td>\n",
       "      <td>0</td>\n",
       "      <td>1</td>\n",
       "      <td>0</td>\n",
       "      <td>...</td>\n",
       "      <td>3.317541</td>\n",
       "      <td>0.694335</td>\n",
       "      <td>0.000000</td>\n",
       "      <td>0.000</td>\n",
       "      <td>0.375</td>\n",
       "      <td>0.375</td>\n",
       "      <td>0.693147</td>\n",
       "      <td>-0.070987</td>\n",
       "      <td>9.913535</td>\n",
       "      <td>9.913535</td>\n",
       "    </tr>\n",
       "  </tbody>\n",
       "</table>\n",
       "<p>5 rows × 228 columns</p>\n",
       "</div>"
      ],
      "text/plain": [
       "     FP001  FP002  FP003  FP004  FP005  FP006  FP007  FP008  FP009  FP010  \\\n",
       "661      0      1      0      0      1      0      0      1      0      0   \n",
       "662      0      1      0      1      1      1      1      1      0      0   \n",
       "663      1      1      1      1      1      0      0      1      0      1   \n",
       "665      0      0      1      0      0      0      1      0      0      0   \n",
       "668      0      0      1      1      1      1      0      0      1      0   \n",
       "\n",
       "         ...       NumCarbon  NumNitrogen  NumOxygen  NumSulfer  NumChlorine  \\\n",
       "661      ...        4.177811     0.584815   0.000000      0.000        0.000   \n",
       "662      ...        5.092358     0.642355   0.693147      0.375        0.000   \n",
       "663      ...        4.023944     0.000000   1.098612      0.000        0.000   \n",
       "665      ...        3.510455     0.000000   0.000000      0.000        0.000   \n",
       "668      ...        3.317541     0.694335   0.000000      0.000        0.375   \n",
       "\n",
       "     NumHalogen  NumRings  HydrophilicFactor  SurfaceArea1  SurfaceArea2  \n",
       "661       0.000  1.386294          -1.606542      6.812456      6.812456  \n",
       "662       0.000  1.609438          -0.441330      9.753834     12.029604  \n",
       "663       0.000  0.693147          -0.384859      8.245324      8.245324  \n",
       "665       0.000  0.693147          -2.373472      0.000000      0.000000  \n",
       "668       0.375  0.693147          -0.070987      9.913535      9.913535  \n",
       "\n",
       "[5 rows x 228 columns]"
      ]
     },
     "execution_count": 6,
     "metadata": {},
     "output_type": "execute_result"
    }
   ],
   "source": [
    "train_data.head()"
   ]
  },
  {
   "cell_type": "code",
   "execution_count": 7,
   "metadata": {},
   "outputs": [
    {
     "data": {
      "text/plain": [
       "tensor([[ 0.0000,  1.0000,  0.0000,  ..., -1.6065,  6.8125,  6.8125],\n",
       "        [ 0.0000,  1.0000,  0.0000,  ..., -0.4413,  9.7538, 12.0296],\n",
       "        [ 1.0000,  1.0000,  1.0000,  ..., -0.3849,  8.2453,  8.2453],\n",
       "        ...,\n",
       "        [ 1.0000,  0.0000,  1.0000,  ..., -1.4838,  5.4565,  5.4565],\n",
       "        [ 0.0000,  0.0000,  0.0000,  ..., -0.5332,  0.0000,  0.0000],\n",
       "        [ 0.0000,  0.0000,  1.0000,  ..., -1.3834,  3.8371,  3.8371]])"
      ]
     },
     "execution_count": 7,
     "metadata": {},
     "output_type": "execute_result"
    }
   ],
   "source": [
    "x, y = Variable(torch.from_numpy(train_data.values)).float(), Variable(torch.from_numpy(train_label.values)).float()\n",
    "x"
   ]
  },
  {
   "cell_type": "code",
   "execution_count": 8,
   "metadata": {},
   "outputs": [
    {
     "data": {
      "text/plain": [
       "tensor([[-3.9700],\n",
       "        [-3.9800],\n",
       "        [-3.9900],\n",
       "        [-4.0000],\n",
       "        [-4.0600],\n",
       "        [-4.0800],\n",
       "        [-4.0800],\n",
       "        [-4.1000],\n",
       "        [-4.1000],\n",
       "        [-4.1100]])"
      ]
     },
     "execution_count": 8,
     "metadata": {},
     "output_type": "execute_result"
    }
   ],
   "source": [
    "y[:10]"
   ]
  },
  {
   "cell_type": "markdown",
   "metadata": {},
   "source": [
    "## Define Model and Training"
   ]
  },
  {
   "cell_type": "code",
   "execution_count": 9,
   "metadata": {},
   "outputs": [
    {
     "name": "stdout",
     "output_type": "stream",
     "text": [
      "Linear(in_features=228, out_features=1, bias=True)\n"
     ]
    }
   ],
   "source": [
    "model = nn.Linear(228, 1, bias=True)\n",
    "print(model)"
   ]
  },
  {
   "cell_type": "code",
   "execution_count": 10,
   "metadata": {
    "collapsed": true
   },
   "outputs": [],
   "source": [
    "loss = nn.MSELoss()\n",
    "optimizer = optim.SGD(model.parameters(), lr=1e-5)"
   ]
  },
  {
   "cell_type": "code",
   "execution_count": 11,
   "metadata": {},
   "outputs": [
    {
     "name": "stdout",
     "output_type": "stream",
     "text": [
      "Step : 100000 ,  Cost : 0.717\n",
      "Step : 200000 ,  Cost : 0.567\n",
      "Step : 300000 ,  Cost : 0.508\n",
      "Step : 400000 ,  Cost : 0.476\n",
      "Step : 500000 ,  Cost : 0.454\n"
     ]
    }
   ],
   "source": [
    "for step in range(500000) :\n",
    "    pred = model(x)\n",
    "    cost = loss(pred, y)\n",
    "    \n",
    "    optimizer.zero_grad()\n",
    "    cost.backward()\n",
    "    optimizer.step()\n",
    "    \n",
    "    if (step+1) % 100000 == 0 :\n",
    "        print(\"Step : %d ,  Cost : %.3f\" % (step+1, cost.item()))"
   ]
  },
  {
   "cell_type": "code",
   "execution_count": 12,
   "metadata": {},
   "outputs": [
    {
     "data": {
      "text/plain": [
       "tensor([[-0.0393,  0.1808, -0.0647, -0.0063,  0.0444, -0.0546,  0.1199,  0.0471,\n",
       "         -0.1369, -0.0040,  0.0230, -0.0775,  0.0048, -0.0262,  0.0534, -0.0575,\n",
       "         -0.0518, -0.0250,  0.0742,  0.0688, -0.1096,  0.0840,  0.0739,  0.0263,\n",
       "         -0.0642,  0.1134,  0.0250, -0.0264, -0.0547, -0.0731,  0.0711,  0.0022,\n",
       "          0.0663, -0.0346, -0.0780,  0.0392,  0.0569, -0.0014, -0.0768,  0.2072,\n",
       "         -0.0050,  0.0813,  0.0669, -0.1710,  0.0272,  0.1307, -0.0558, -0.1212,\n",
       "          0.1536, -0.1914,  0.0457,  0.0270,  0.2209, -0.0540,  0.0330, -0.0298,\n",
       "         -0.0404,  0.0936, -0.1947, -0.0060, -0.0923,  0.0140,  0.1245,  0.0557,\n",
       "         -0.2072,  0.1647, -0.0792,  0.0013,  0.0251, -0.2761, -0.0701,  0.0883,\n",
       "          0.0102,  0.1443,  0.0933, -0.1875,  0.1004, -0.0415,  0.0145,  0.1120,\n",
       "         -0.0635, -0.0288, -0.1775,  0.1796, -0.1822, -0.0357,  0.0456,  0.0184,\n",
       "         -0.1379,  0.0538, -0.0450, -0.0564, -0.0969, -0.0697, -0.0313,  0.0011,\n",
       "         -0.0910, -0.0931, -0.0165, -0.0607,  0.2028, -0.0052, -0.0817, -0.2013,\n",
       "         -0.0446, -0.1432, -0.1416, -0.0249,  0.0084, -0.0938, -0.2680, -0.1394,\n",
       "          0.0128, -0.0324,  0.0085,  0.1301, -0.0921, -0.0261,  0.0086,  0.0263,\n",
       "          0.0697,  0.0713, -0.0617,  0.1631,  0.0072, -0.0822, -0.0987, -0.0187,\n",
       "          0.0226, -0.0123,  0.0106,  0.0222,  0.0049, -0.0121,  0.1938,  0.0307,\n",
       "          0.1537,  0.1389,  0.0287,  0.0916, -0.0559,  0.2015, -0.0070, -0.0296,\n",
       "         -0.0478, -0.0307,  0.1480,  0.0130, -0.0345, -0.0220, -0.0184, -0.0646,\n",
       "         -0.0156, -0.1759,  0.0293, -0.0491, -0.0693,  0.0185,  0.0687, -0.0517,\n",
       "         -0.0333,  0.1626,  0.0135,  0.2534, -0.0478,  0.2175, -0.0076, -0.1069,\n",
       "         -0.0758,  0.0607, -0.0807, -0.1199, -0.0189,  0.0146, -0.0515,  0.0170,\n",
       "         -0.0243, -0.1258,  0.0145, -0.1180, -0.0925, -0.0107, -0.0208, -0.0263,\n",
       "          0.0137, -0.0064, -0.0410,  0.1181,  0.0907,  0.1206,  0.0414, -0.0160,\n",
       "         -0.1258, -0.0213,  0.0678, -0.0254, -0.0252,  0.0517, -0.0501, -0.0127,\n",
       "          0.0236,  0.1457,  0.0373, -0.1569, -0.0358, -0.1534,  0.1391,  0.0711,\n",
       "          0.0753,  0.0518, -0.2455,  0.0400, -0.6800, -0.3047, -0.4540, -0.0847,\n",
       "         -0.0049,  0.1494, -0.6208,  0.0405,  0.1104, -0.0951, -0.0442, -0.0778,\n",
       "         -0.1988, -0.1295,  0.3526, -0.0409]])"
      ]
     },
     "execution_count": 12,
     "metadata": {},
     "output_type": "execute_result"
    }
   ],
   "source": [
    "model.state_dict()['weight']"
   ]
  },
  {
   "cell_type": "code",
   "execution_count": 13,
   "metadata": {},
   "outputs": [
    {
     "data": {
      "text/plain": [
       "tensor([0.1426])"
      ]
     },
     "execution_count": 13,
     "metadata": {},
     "output_type": "execute_result"
    }
   ],
   "source": [
    "model.state_dict()['bias']"
   ]
  },
  {
   "cell_type": "markdown",
   "metadata": {},
   "source": [
    "## Test"
   ]
  },
  {
   "cell_type": "code",
   "execution_count": 14,
   "metadata": {
    "collapsed": true
   },
   "outputs": [],
   "source": [
    "from sklearn import metrics"
   ]
  },
  {
   "cell_type": "code",
   "execution_count": 15,
   "metadata": {
    "collapsed": true
   },
   "outputs": [],
   "source": [
    "x_test = Variable(torch.from_numpy(test_data.values)).float()\n",
    "y_test = Variable(torch.from_numpy(test_label.values)).float()"
   ]
  },
  {
   "cell_type": "code",
   "execution_count": 16,
   "metadata": {},
   "outputs": [
    {
     "name": "stdout",
     "output_type": "stream",
     "text": [
      "R2 Score =  0.8565959159927845\n"
     ]
    }
   ],
   "source": [
    "y_predict = model(x_test)\n",
    "print(\"R2 Score = \", metrics.r2_score(y_test.data, y_predict.data))"
   ]
  },
  {
   "cell_type": "code",
   "execution_count": 17,
   "metadata": {},
   "outputs": [
    {
     "data": {
      "image/png": "[encoded data removed]",
      "text/plain": [
       "<Figure size 432x288 with 1 Axes>"
      ]
     },
     "metadata": {},
     "output_type": "display_data"
    }
   ],
   "source": [
    "plt.scatter(y_predict.data.numpy(), y_test.data.numpy())\n",
    "\n",
    "plt.title('Predict & Real', fontdict={'size':15})\n",
    "plt.xlabel('Predict')\n",
    "plt.ylabel('Real')\n",
    "\n",
    "plt.xlim(-10, 3) \n",
    "plt.ylim(-10, 3)\n",
    "\n",
    "plt.plot(y_test.data.numpy(), y_test.data.numpy(), 'r-') \n",
    "plt.show()"
   ]
  }
 ],
 "metadata": {
  "kernelspec": {
   "display_name": "Python 3",
   "language": "python",
   "name": "python3"
  },
  "language_info": {
   "codemirror_mode": {
    "name": "ipython",
    "version": 3
   },
   "file_extension": ".py",
   "mimetype": "text/x-python",
   "name": "python",
   "nbconvert_exporter": "python",
   "pygments_lexer": "ipython3",
   "version": "3.6.6"
  }
 },
 "nbformat": 4,
 "nbformat_minor": 2
}
