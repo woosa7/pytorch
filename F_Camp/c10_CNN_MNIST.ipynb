{
 "cells": [
  {
   "cell_type": "markdown",
   "metadata": {},
   "source": [
    "# Lec 10. CNN with MNIST"
   ]
  },
  {
   "cell_type": "code",
   "execution_count": 1,
   "metadata": {
    "collapsed": true
   },
   "outputs": [],
   "source": [
    "import torch\n",
    "import torch.nn as nn\n",
    "import torch.optim as optim\n",
    "import torch.nn.init\n",
    "\n",
    "import torchvision.utils as utils\n",
    "import torchvision.datasets as dsets\n",
    "import torchvision.transforms as transforms\n",
    "\n",
    "import numpy as np\n",
    "import random\n",
    "import os"
   ]
  },
  {
   "cell_type": "markdown",
   "metadata": {},
   "source": [
    "## Data Load"
   ]
  },
  {
   "cell_type": "code",
   "execution_count": 2,
   "metadata": {
    "collapsed": true
   },
   "outputs": [],
   "source": [
    "mnist_train = dsets.MNIST(root='data/',\n",
    "                          train=True,\n",
    "                          transform=transforms.ToTensor(),\n",
    "                          download=True)\n",
    "\n",
    "mnist_test = dsets.MNIST(root='data/',\n",
    "                         train=False,\n",
    "                         transform=transforms.ToTensor(),\n",
    "                         download=True)"
   ]
  },
  {
   "cell_type": "code",
   "execution_count": 3,
   "metadata": {},
   "outputs": [
    {
     "data": {
      "text/plain": [
       "(torch.Size([60000, 28, 28]), torch.Size([10000, 28, 28]))"
      ]
     },
     "execution_count": 3,
     "metadata": {},
     "output_type": "execute_result"
    }
   ],
   "source": [
    "batch_size = 100\n",
    "\n",
    "train_loader = torch.utils.data.DataLoader(dataset = mnist_train,\n",
    "                                           batch_size = batch_size,\n",
    "                                           shuffle = False)\n",
    "\n",
    "test_loader = torch.utils.data.DataLoader(dataset = mnist_test,\n",
    "                                          batch_size = batch_size,\n",
    "                                          shuffle = False)\n",
    "\n",
    "mnist_train.train_data.size(), mnist_test.test_data.size()"
   ]
  },
  {
   "cell_type": "markdown",
   "metadata": {},
   "source": [
    "## Define Model"
   ]
  },
  {
   "cell_type": "markdown",
   "metadata": {},
   "source": [
    "Convolution Output - N : input, K : kernel, P : paddding (default = 0), S : stride (default = 1)\n",
    "\n",
    "Out = (N + 2P - K) / S + 1"
   ]
  },
  {
   "cell_type": "code",
   "execution_count": 4,
   "metadata": {
    "collapsed": true
   },
   "outputs": [],
   "source": [
    "def c_conv(N, K, P=0, S=1):\n",
    "    return int((N + 2*P - K) / S + 1)\n",
    "\n",
    "def c_pool(N, K):\n",
    "    return int(N/K)"
   ]
  },
  {
   "cell_type": "code",
   "execution_count": 5,
   "metadata": {},
   "outputs": [
    {
     "name": "stdout",
     "output_type": "stream",
     "text": [
      "24 20 10 6 3\n"
     ]
    }
   ],
   "source": [
    "c0 = 28\n",
    "c1 = c_conv(c0, 5)\n",
    "c2 = c_conv(c1, 5)\n",
    "c3 = c_pool(c2, 2)\n",
    "c4 = c_conv(c3, 5)\n",
    "c5 = c_pool(c4, 2)\n",
    "\n",
    "print(c1, c2, c3, c4, c5)"
   ]
  },
  {
   "cell_type": "code",
   "execution_count": 6,
   "metadata": {
    "collapsed": true
   },
   "outputs": [],
   "source": [
    "class CNN(nn.Module):\n",
    "    def __init__(self):\n",
    "        super(CNN, self).__init__()\n",
    "        \n",
    "        self.layer = nn.Sequential(\n",
    "            nn.Conv2d(1,16,5),    # 28 -> 24\n",
    "            nn.ReLU(),\n",
    "            \n",
    "            nn.Conv2d(16,32,5),   # 20\n",
    "            nn.ReLU(),\n",
    "            nn.MaxPool2d(2,2),    # 10\n",
    "            \n",
    "            nn.Conv2d(32,64,5),   # 6\n",
    "            nn.ReLU(),\n",
    "            nn.MaxPool2d(2,2)     # 3\n",
    "        )\n",
    "        \n",
    "        self.fc_layer = nn.Sequential(\n",
    "            nn.Linear(64*3*3,100), # last MaxPooling layer data size 3*3\n",
    "            nn.ReLU(),\n",
    "            nn.Linear(100,10)\n",
    "        )       \n",
    "        \n",
    "    def forward(self,x):\n",
    "        out = self.layer(x)\n",
    "        out = out.view(batch_size,-1)\n",
    "        out = self.fc_layer(out)\n",
    "\n",
    "        return out\n",
    "    \n",
    "model = CNN().cuda()     # GPU 사용"
   ]
  },
  {
   "cell_type": "code",
   "execution_count": 7,
   "metadata": {
    "collapsed": true
   },
   "outputs": [],
   "source": [
    "# multi-nomial classification - CrossEntropyLoss\n",
    "\n",
    "loss = nn.CrossEntropyLoss()\n",
    "# optimizer = optim.SGD(model.parameters(), lr=0.1)\n",
    "optimizer = optim.Adam(model.parameters(), lr=0.001)"
   ]
  },
  {
   "cell_type": "code",
   "execution_count": 8,
   "metadata": {
    "collapsed": true
   },
   "outputs": [],
   "source": [
    "num_epochs = 10"
   ]
  },
  {
   "cell_type": "code",
   "execution_count": 9,
   "metadata": {},
   "outputs": [
    {
     "name": "stdout",
     "output_type": "stream",
     "text": [
      "Epoch [1/10], lter [600/600] Loss: 0.2236\n",
      "Epoch [2/10], lter [600/600] Loss: 0.1960\n",
      "Epoch [3/10], lter [600/600] Loss: 0.1879\n",
      "Epoch [4/10], lter [600/600] Loss: 0.1743\n",
      "Epoch [5/10], lter [600/600] Loss: 0.1671\n",
      "Epoch [6/10], lter [600/600] Loss: 0.1747\n",
      "Epoch [7/10], lter [600/600] Loss: 0.1783\n",
      "Epoch [8/10], lter [600/600] Loss: 0.1528\n",
      "Epoch [9/10], lter [600/600] Loss: 0.1515\n",
      "Epoch [10/10], lter [600/600] Loss: 0.1393\n"
     ]
    }
   ],
   "source": [
    "# Model save & load\n",
    "model_filename = 'cnn_mnist.pkl'\n",
    "\n",
    "# if os.path.isfile(model_filename):\n",
    "#     model.load_state_dict(torch.load(model_filename))\n",
    "#     print(\"Model Loaded!\")\n",
    "# else:\n",
    "\n",
    "for epoch in range(num_epochs):\n",
    "    total_batch = len(mnist_train) // batch_size\n",
    "\n",
    "    for i, (batch_images, batch_labels) in enumerate(train_loader):\n",
    "\n",
    "        X = batch_images.cuda()\n",
    "        Y = batch_labels.cuda()\n",
    "\n",
    "        pred = model(X)\n",
    "        cost = loss(pred, Y)\n",
    "\n",
    "        optimizer.zero_grad()\n",
    "        cost.backward()\n",
    "        optimizer.step()\n",
    "\n",
    "        if (i+1) % total_batch == 0:\n",
    "            print('Epoch [%d/%d], lter [%d/%d] Loss: %.4f'%(epoch+1, num_epochs, i+1, total_batch, cost.item()))\n",
    "\n",
    "#     if not os.path.isfile(model_filename):\n",
    "#         print(\"Model Saved!\")\n",
    "#         torch.save(model.state_dict(), model_filename)"
   ]
  },
  {
   "cell_type": "markdown",
   "metadata": {},
   "source": [
    "## Test"
   ]
  },
  {
   "cell_type": "code",
   "execution_count": 10,
   "metadata": {},
   "outputs": [
    {
     "name": "stdout",
     "output_type": "stream",
     "text": [
      "correct : 9898\n",
      "total   : 10000\n",
      "Accuracy of test images: 98.980000 %\n"
     ]
    }
   ],
   "source": [
    "model.eval()\n",
    "\n",
    "correct = 0\n",
    "total = 0\n",
    "\n",
    "for images, labels in test_loader:\n",
    "    \n",
    "    images = images.cuda()\n",
    "    outputs = model(images)\n",
    "    \n",
    "    _, predicted = torch.max(outputs.data, 1)\n",
    "    \n",
    "    total += labels.size(0)\n",
    "    correct += (predicted == labels.cuda()).sum()\n",
    "\n",
    "correct = correct.cpu().numpy()\n",
    "print('correct :', correct)\n",
    "print('total   :', total)\n",
    "print('Accuracy of test images: %f %%' % (100 * correct / total))"
   ]
  }
 ],
 "metadata": {
  "kernelspec": {
   "display_name": "Python 3",
   "language": "python",
   "name": "python3"
  },
  "language_info": {
   "codemirror_mode": {
    "name": "ipython",
    "version": 3
   },
   "file_extension": ".py",
   "mimetype": "text/x-python",
   "name": "python",
   "nbconvert_exporter": "python",
   "pygments_lexer": "ipython3",
   "version": "3.6.6"
  }
 },
 "nbformat": 4,
 "nbformat_minor": 2
}
